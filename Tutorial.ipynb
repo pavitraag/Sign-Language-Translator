{
 "cells": [
  {
   "cell_type": "markdown",
   "metadata": {},
   "source": [
    "Resources Used\n",
    "- wget.download('https://tensorflow-object-detection-api-tutorial.readthedocs.io/en/latest/_downloads/da4babe668a8afb093cc7776d7e630f3/generate_tfrecord.py')\n",
    "- Setup https://tensorflow-object-detection-api-tutorial.readthedocs.io/en/latest/install.html"
   ]
  },
  {
   "cell_type": "markdown",
   "metadata": {},
   "source": [
    "# 0. Setup Paths"
   ]
  },
  {
   "cell_type": "code",
   "execution_count": 1,
   "metadata": {},
   "outputs": [],
   "source": [
    "WORKSPACE_PATH = 'Tensorflow/workspace'\n",
    "SCRIPTS_PATH = 'Tensorflow/scripts'\n",
    "APIMODEL_PATH = 'Tensorflow/models'\n",
    "ANNOTATION_PATH = WORKSPACE_PATH+'/annotations'\n",
    "IMAGE_PATH = WORKSPACE_PATH+'/images'\n",
    "MODEL_PATH = WORKSPACE_PATH+'/models'\n",
    "PRETRAINED_MODEL_PATH = WORKSPACE_PATH+'/pre-trained-models'\n",
    "CONFIG_PATH = MODEL_PATH+'/my_ssd_mobnet/pipeline.config'\n",
    "CHECKPOINT_PATH = MODEL_PATH+'/my_ssd_mobnet/'"
   ]
  },
  {
   "cell_type": "markdown",
   "metadata": {},
   "source": [
    "# 1. Create Label Map"
   ]
  },
  {
   "cell_type": "code",
   "execution_count": 2,
   "metadata": {},
   "outputs": [],
   "source": [
    "labels = [{'name':'Hello', 'id':1},\n",
    "          {'name':'Yes', 'id':2},\n",
    "         {'name':'No', 'id':3},\n",
    "         {'name':'Thank You', 'id':4},\n",
    "         {'name':'I Love You', 'id':5},\n",
    "         {'name':'Please', 'id':6},]\n",
    "\n",
    "with open(ANNOTATION_PATH + r'\\label_map.pbtxt', 'w') as f:\n",
    "    for label in labels:\n",
    "        f.write('item { \\n')\n",
    "        f.write('\\tname:\\'{}\\'\\n'.format(label['name']))\n",
    "        f.write('\\tid:{}\\n'.format(label['id']))\n",
    "        f.write('}\\n')"
   ]
  },
  {
   "cell_type": "markdown",
   "metadata": {},
   "source": [
    "# 2. Create TF records"
   ]
  },
  {
   "cell_type": "code",
   "execution_count": 3,
   "metadata": {
    "scrolled": true
   },
   "outputs": [
    {
     "name": "stdout",
     "output_type": "stream",
     "text": [
      "Requirement already satisfied: pandas in c:\\users\\sanpa solutions\\desktop\\pavitraa\\ubantu\\lib\\site-packages (2.2.1)\n",
      "Requirement already satisfied: numpy<2,>=1.26.0 in c:\\users\\sanpa solutions\\desktop\\pavitraa\\ubantu\\lib\\site-packages (from pandas) (1.26.4)\n",
      "Requirement already satisfied: python-dateutil>=2.8.2 in c:\\users\\sanpa solutions\\desktop\\pavitraa\\ubantu\\lib\\site-packages (from pandas) (2.9.0.post0)\n",
      "Requirement already satisfied: pytz>=2020.1 in c:\\users\\sanpa solutions\\desktop\\pavitraa\\ubantu\\lib\\site-packages (from pandas) (2024.1)\n",
      "Requirement already satisfied: tzdata>=2022.7 in c:\\users\\sanpa solutions\\desktop\\pavitraa\\ubantu\\lib\\site-packages (from pandas) (2024.1)\n",
      "Requirement already satisfied: six>=1.5 in c:\\users\\sanpa solutions\\desktop\\pavitraa\\ubantu\\lib\\site-packages (from python-dateutil>=2.8.2->pandas) (1.16.0)\n"
     ]
    },
    {
     "name": "stderr",
     "output_type": "stream",
     "text": [
      "\n",
      "[notice] A new release of pip is available: 23.2.1 -> 24.0\n",
      "[notice] To update, run: python.exe -m pip install --upgrade pip\n"
     ]
    },
    {
     "name": "stdout",
     "output_type": "stream",
     "text": [
      "Requirement already satisfied: tensorflow in c:\\users\\sanpa solutions\\desktop\\pavitraa\\ubantu\\lib\\site-packages (2.16.1)\n",
      "Requirement already satisfied: tensorflow-intel==2.16.1 in c:\\users\\sanpa solutions\\desktop\\pavitraa\\ubantu\\lib\\site-packages (from tensorflow) (2.16.1)\n",
      "Requirement already satisfied: absl-py>=1.0.0 in c:\\users\\sanpa solutions\\desktop\\pavitraa\\ubantu\\lib\\site-packages (from tensorflow-intel==2.16.1->tensorflow) (2.1.0)\n",
      "Requirement already satisfied: astunparse>=1.6.0 in c:\\users\\sanpa solutions\\desktop\\pavitraa\\ubantu\\lib\\site-packages (from tensorflow-intel==2.16.1->tensorflow) (1.6.3)\n",
      "Requirement already satisfied: flatbuffers>=23.5.26 in c:\\users\\sanpa solutions\\desktop\\pavitraa\\ubantu\\lib\\site-packages (from tensorflow-intel==2.16.1->tensorflow) (24.3.25)\n",
      "Requirement already satisfied: gast!=0.5.0,!=0.5.1,!=0.5.2,>=0.2.1 in c:\\users\\sanpa solutions\\desktop\\pavitraa\\ubantu\\lib\\site-packages (from tensorflow-intel==2.16.1->tensorflow) (0.5.4)\n",
      "Requirement already satisfied: google-pasta>=0.1.1 in c:\\users\\sanpa solutions\\desktop\\pavitraa\\ubantu\\lib\\site-packages (from tensorflow-intel==2.16.1->tensorflow) (0.2.0)\n",
      "Requirement already satisfied: h5py>=3.10.0 in c:\\users\\sanpa solutions\\desktop\\pavitraa\\ubantu\\lib\\site-packages (from tensorflow-intel==2.16.1->tensorflow) (3.10.0)\n",
      "Requirement already satisfied: libclang>=13.0.0 in c:\\users\\sanpa solutions\\desktop\\pavitraa\\ubantu\\lib\\site-packages (from tensorflow-intel==2.16.1->tensorflow) (18.1.1)\n",
      "Requirement already satisfied: ml-dtypes~=0.3.1 in c:\\users\\sanpa solutions\\desktop\\pavitraa\\ubantu\\lib\\site-packages (from tensorflow-intel==2.16.1->tensorflow) (0.3.2)\n",
      "Requirement already satisfied: opt-einsum>=2.3.2 in c:\\users\\sanpa solutions\\desktop\\pavitraa\\ubantu\\lib\\site-packages (from tensorflow-intel==2.16.1->tensorflow) (3.3.0)\n",
      "Requirement already satisfied: packaging in c:\\users\\sanpa solutions\\desktop\\pavitraa\\ubantu\\lib\\site-packages (from tensorflow-intel==2.16.1->tensorflow) (24.0)\n",
      "Requirement already satisfied: protobuf!=4.21.0,!=4.21.1,!=4.21.2,!=4.21.3,!=4.21.4,!=4.21.5,<5.0.0dev,>=3.20.3 in c:\\users\\sanpa solutions\\desktop\\pavitraa\\ubantu\\lib\\site-packages (from tensorflow-intel==2.16.1->tensorflow) (4.25.3)\n",
      "Requirement already satisfied: requests<3,>=2.21.0 in c:\\users\\sanpa solutions\\desktop\\pavitraa\\ubantu\\lib\\site-packages (from tensorflow-intel==2.16.1->tensorflow) (2.31.0)\n",
      "Requirement already satisfied: setuptools in c:\\users\\sanpa solutions\\desktop\\pavitraa\\ubantu\\lib\\site-packages (from tensorflow-intel==2.16.1->tensorflow) (69.2.0)\n",
      "Requirement already satisfied: six>=1.12.0 in c:\\users\\sanpa solutions\\desktop\\pavitraa\\ubantu\\lib\\site-packages (from tensorflow-intel==2.16.1->tensorflow) (1.16.0)\n",
      "Requirement already satisfied: termcolor>=1.1.0 in c:\\users\\sanpa solutions\\desktop\\pavitraa\\ubantu\\lib\\site-packages (from tensorflow-intel==2.16.1->tensorflow) (2.4.0)\n",
      "Requirement already satisfied: typing-extensions>=3.6.6 in c:\\users\\sanpa solutions\\desktop\\pavitraa\\ubantu\\lib\\site-packages (from tensorflow-intel==2.16.1->tensorflow) (4.10.0)\n",
      "Requirement already satisfied: wrapt>=1.11.0 in c:\\users\\sanpa solutions\\desktop\\pavitraa\\ubantu\\lib\\site-packages (from tensorflow-intel==2.16.1->tensorflow) (1.16.0)\n",
      "Requirement already satisfied: grpcio<2.0,>=1.24.3 in c:\\users\\sanpa solutions\\desktop\\pavitraa\\ubantu\\lib\\site-packages (from tensorflow-intel==2.16.1->tensorflow) (1.62.1)\n",
      "Requirement already satisfied: tensorboard<2.17,>=2.16 in c:\\users\\sanpa solutions\\desktop\\pavitraa\\ubantu\\lib\\site-packages (from tensorflow-intel==2.16.1->tensorflow) (2.16.2)\n",
      "Requirement already satisfied: keras>=3.0.0 in c:\\users\\sanpa solutions\\desktop\\pavitraa\\ubantu\\lib\\site-packages (from tensorflow-intel==2.16.1->tensorflow) (3.1.1)\n",
      "Requirement already satisfied: numpy<2.0.0,>=1.26.0 in c:\\users\\sanpa solutions\\desktop\\pavitraa\\ubantu\\lib\\site-packages (from tensorflow-intel==2.16.1->tensorflow) (1.26.4)\n",
      "Requirement already satisfied: wheel<1.0,>=0.23.0 in c:\\users\\sanpa solutions\\desktop\\pavitraa\\ubantu\\lib\\site-packages (from astunparse>=1.6.0->tensorflow-intel==2.16.1->tensorflow) (0.43.0)\n",
      "Requirement already satisfied: rich in c:\\users\\sanpa solutions\\desktop\\pavitraa\\ubantu\\lib\\site-packages (from keras>=3.0.0->tensorflow-intel==2.16.1->tensorflow) (13.7.1)\n",
      "Requirement already satisfied: namex in c:\\users\\sanpa solutions\\desktop\\pavitraa\\ubantu\\lib\\site-packages (from keras>=3.0.0->tensorflow-intel==2.16.1->tensorflow) (0.0.7)\n",
      "Requirement already satisfied: optree in c:\\users\\sanpa solutions\\desktop\\pavitraa\\ubantu\\lib\\site-packages (from keras>=3.0.0->tensorflow-intel==2.16.1->tensorflow) (0.11.0)\n",
      "Requirement already satisfied: charset-normalizer<4,>=2 in c:\\users\\sanpa solutions\\desktop\\pavitraa\\ubantu\\lib\\site-packages (from requests<3,>=2.21.0->tensorflow-intel==2.16.1->tensorflow) (3.3.2)\n",
      "Requirement already satisfied: idna<4,>=2.5 in c:\\users\\sanpa solutions\\desktop\\pavitraa\\ubantu\\lib\\site-packages (from requests<3,>=2.21.0->tensorflow-intel==2.16.1->tensorflow) (3.6)\n",
      "Requirement already satisfied: urllib3<3,>=1.21.1 in c:\\users\\sanpa solutions\\desktop\\pavitraa\\ubantu\\lib\\site-packages (from requests<3,>=2.21.0->tensorflow-intel==2.16.1->tensorflow) (2.2.1)\n",
      "Requirement already satisfied: certifi>=2017.4.17 in c:\\users\\sanpa solutions\\desktop\\pavitraa\\ubantu\\lib\\site-packages (from requests<3,>=2.21.0->tensorflow-intel==2.16.1->tensorflow) (2024.2.2)\n",
      "Requirement already satisfied: markdown>=2.6.8 in c:\\users\\sanpa solutions\\desktop\\pavitraa\\ubantu\\lib\\site-packages (from tensorboard<2.17,>=2.16->tensorflow-intel==2.16.1->tensorflow) (3.6)\n",
      "Requirement already satisfied: tensorboard-data-server<0.8.0,>=0.7.0 in c:\\users\\sanpa solutions\\desktop\\pavitraa\\ubantu\\lib\\site-packages (from tensorboard<2.17,>=2.16->tensorflow-intel==2.16.1->tensorflow) (0.7.2)\n",
      "Requirement already satisfied: werkzeug>=1.0.1 in c:\\users\\sanpa solutions\\desktop\\pavitraa\\ubantu\\lib\\site-packages (from tensorboard<2.17,>=2.16->tensorflow-intel==2.16.1->tensorflow) (3.0.2)\n",
      "Requirement already satisfied: MarkupSafe>=2.1.1 in c:\\users\\sanpa solutions\\desktop\\pavitraa\\ubantu\\lib\\site-packages (from werkzeug>=1.0.1->tensorboard<2.17,>=2.16->tensorflow-intel==2.16.1->tensorflow) (2.1.5)\n",
      "Requirement already satisfied: markdown-it-py>=2.2.0 in c:\\users\\sanpa solutions\\desktop\\pavitraa\\ubantu\\lib\\site-packages (from rich->keras>=3.0.0->tensorflow-intel==2.16.1->tensorflow) (3.0.0)\n",
      "Requirement already satisfied: pygments<3.0.0,>=2.13.0 in c:\\users\\sanpa solutions\\desktop\\pavitraa\\ubantu\\lib\\site-packages (from rich->keras>=3.0.0->tensorflow-intel==2.16.1->tensorflow) (2.17.2)\n",
      "Requirement already satisfied: mdurl~=0.1 in c:\\users\\sanpa solutions\\desktop\\pavitraa\\ubantu\\lib\\site-packages (from markdown-it-py>=2.2.0->rich->keras>=3.0.0->tensorflow-intel==2.16.1->tensorflow) (0.1.2)\n"
     ]
    },
    {
     "name": "stderr",
     "output_type": "stream",
     "text": [
      "\n",
      "[notice] A new release of pip is available: 23.2.1 -> 24.0\n",
      "[notice] To update, run: python.exe -m pip install --upgrade pip\n"
     ]
    }
   ],
   "source": [
    "!pip install pandas\n",
    "!pip install tensorflow"
   ]
  },
  {
   "cell_type": "code",
   "execution_count": 4,
   "metadata": {},
   "outputs": [
    {
     "name": "stdout",
     "output_type": "stream",
     "text": [
      "Requirement already satisfied: Pillow in c:\\users\\sanpa solutions\\desktop\\pavitraa\\ubantu\\lib\\site-packages (10.3.0)\n"
     ]
    },
    {
     "name": "stderr",
     "output_type": "stream",
     "text": [
      "\n",
      "[notice] A new release of pip is available: 23.2.1 -> 24.0\n",
      "[notice] To update, run: python.exe -m pip install --upgrade pip\n"
     ]
    }
   ],
   "source": [
    "!pip install Pillow\n",
    "\n",
    "from PIL import Image"
   ]
  },
  {
   "cell_type": "code",
   "execution_count": 5,
   "metadata": {},
   "outputs": [
    {
     "name": "stdout",
     "output_type": "stream",
     "text": [
      "Requirement already satisfied: object_detection in c:\\users\\sanpa solutions\\desktop\\pavitraa\\ubantu\\lib\\site-packages (0.0.3)\n",
      "Requirement already satisfied: tensorflow in c:\\users\\sanpa solutions\\desktop\\pavitraa\\ubantu\\lib\\site-packages (from object_detection) (2.16.1)\n",
      "Requirement already satisfied: Cython in c:\\users\\sanpa solutions\\desktop\\pavitraa\\ubantu\\lib\\site-packages (from object_detection) (3.0.10)\n",
      "Requirement already satisfied: contextlib2 in c:\\users\\sanpa solutions\\desktop\\pavitraa\\ubantu\\lib\\site-packages (from object_detection) (21.6.0)\n",
      "Requirement already satisfied: pillow in c:\\users\\sanpa solutions\\desktop\\pavitraa\\ubantu\\lib\\site-packages (from object_detection) (10.3.0)\n",
      "Requirement already satisfied: lxml in c:\\users\\sanpa solutions\\desktop\\pavitraa\\ubantu\\lib\\site-packages (from object_detection) (5.2.1)\n",
      "Requirement already satisfied: jupyter in c:\\users\\sanpa solutions\\desktop\\pavitraa\\ubantu\\lib\\site-packages (from object_detection) (1.0.0)\n",
      "Requirement already satisfied: matplotlib in c:\\users\\sanpa solutions\\desktop\\pavitraa\\ubantu\\lib\\site-packages (from object_detection) (3.8.4)\n",
      "Requirement already satisfied: notebook in c:\\users\\sanpa solutions\\desktop\\pavitraa\\ubantu\\lib\\site-packages (from jupyter->object_detection) (7.1.2)\n",
      "Requirement already satisfied: qtconsole in c:\\users\\sanpa solutions\\desktop\\pavitraa\\ubantu\\lib\\site-packages (from jupyter->object_detection) (5.5.1)\n",
      "Requirement already satisfied: jupyter-console in c:\\users\\sanpa solutions\\desktop\\pavitraa\\ubantu\\lib\\site-packages (from jupyter->object_detection) (6.6.3)\n",
      "Requirement already satisfied: nbconvert in c:\\users\\sanpa solutions\\desktop\\pavitraa\\ubantu\\lib\\site-packages (from jupyter->object_detection) (7.16.3)\n",
      "Requirement already satisfied: ipykernel in c:\\users\\sanpa solutions\\desktop\\pavitraa\\ubantu\\lib\\site-packages (from jupyter->object_detection) (6.29.4)\n",
      "Requirement already satisfied: ipywidgets in c:\\users\\sanpa solutions\\desktop\\pavitraa\\ubantu\\lib\\site-packages (from jupyter->object_detection) (8.1.2)\n",
      "Requirement already satisfied: contourpy>=1.0.1 in c:\\users\\sanpa solutions\\desktop\\pavitraa\\ubantu\\lib\\site-packages (from matplotlib->object_detection) (1.2.1)\n",
      "Requirement already satisfied: cycler>=0.10 in c:\\users\\sanpa solutions\\desktop\\pavitraa\\ubantu\\lib\\site-packages (from matplotlib->object_detection) (0.12.1)\n",
      "Requirement already satisfied: fonttools>=4.22.0 in c:\\users\\sanpa solutions\\desktop\\pavitraa\\ubantu\\lib\\site-packages (from matplotlib->object_detection) (4.51.0)\n",
      "Requirement already satisfied: kiwisolver>=1.3.1 in c:\\users\\sanpa solutions\\desktop\\pavitraa\\ubantu\\lib\\site-packages (from matplotlib->object_detection) (1.4.5)\n",
      "Requirement already satisfied: numpy>=1.21 in c:\\users\\sanpa solutions\\desktop\\pavitraa\\ubantu\\lib\\site-packages (from matplotlib->object_detection) (1.26.4)\n",
      "Requirement already satisfied: packaging>=20.0 in c:\\users\\sanpa solutions\\desktop\\pavitraa\\ubantu\\lib\\site-packages (from matplotlib->object_detection) (24.0)\n",
      "Requirement already satisfied: pyparsing>=2.3.1 in c:\\users\\sanpa solutions\\desktop\\pavitraa\\ubantu\\lib\\site-packages (from matplotlib->object_detection) (3.1.2)\n",
      "Requirement already satisfied: python-dateutil>=2.7 in c:\\users\\sanpa solutions\\desktop\\pavitraa\\ubantu\\lib\\site-packages (from matplotlib->object_detection) (2.9.0.post0)\n",
      "Requirement already satisfied: tensorflow-intel==2.16.1 in c:\\users\\sanpa solutions\\desktop\\pavitraa\\ubantu\\lib\\site-packages (from tensorflow->object_detection) (2.16.1)\n",
      "Requirement already satisfied: absl-py>=1.0.0 in c:\\users\\sanpa solutions\\desktop\\pavitraa\\ubantu\\lib\\site-packages (from tensorflow-intel==2.16.1->tensorflow->object_detection) (2.1.0)\n",
      "Requirement already satisfied: astunparse>=1.6.0 in c:\\users\\sanpa solutions\\desktop\\pavitraa\\ubantu\\lib\\site-packages (from tensorflow-intel==2.16.1->tensorflow->object_detection) (1.6.3)\n",
      "Requirement already satisfied: flatbuffers>=23.5.26 in c:\\users\\sanpa solutions\\desktop\\pavitraa\\ubantu\\lib\\site-packages (from tensorflow-intel==2.16.1->tensorflow->object_detection) (24.3.25)\n",
      "Requirement already satisfied: gast!=0.5.0,!=0.5.1,!=0.5.2,>=0.2.1 in c:\\users\\sanpa solutions\\desktop\\pavitraa\\ubantu\\lib\\site-packages (from tensorflow-intel==2.16.1->tensorflow->object_detection) (0.5.4)\n",
      "Requirement already satisfied: google-pasta>=0.1.1 in c:\\users\\sanpa solutions\\desktop\\pavitraa\\ubantu\\lib\\site-packages (from tensorflow-intel==2.16.1->tensorflow->object_detection) (0.2.0)\n",
      "Requirement already satisfied: h5py>=3.10.0 in c:\\users\\sanpa solutions\\desktop\\pavitraa\\ubantu\\lib\\site-packages (from tensorflow-intel==2.16.1->tensorflow->object_detection) (3.10.0)\n",
      "Requirement already satisfied: libclang>=13.0.0 in c:\\users\\sanpa solutions\\desktop\\pavitraa\\ubantu\\lib\\site-packages (from tensorflow-intel==2.16.1->tensorflow->object_detection) (18.1.1)\n",
      "Requirement already satisfied: ml-dtypes~=0.3.1 in c:\\users\\sanpa solutions\\desktop\\pavitraa\\ubantu\\lib\\site-packages (from tensorflow-intel==2.16.1->tensorflow->object_detection) (0.3.2)\n",
      "Requirement already satisfied: opt-einsum>=2.3.2 in c:\\users\\sanpa solutions\\desktop\\pavitraa\\ubantu\\lib\\site-packages (from tensorflow-intel==2.16.1->tensorflow->object_detection) (3.3.0)\n",
      "Requirement already satisfied: protobuf!=4.21.0,!=4.21.1,!=4.21.2,!=4.21.3,!=4.21.4,!=4.21.5,<5.0.0dev,>=3.20.3 in c:\\users\\sanpa solutions\\desktop\\pavitraa\\ubantu\\lib\\site-packages (from tensorflow-intel==2.16.1->tensorflow->object_detection) (4.25.3)\n",
      "Requirement already satisfied: requests<3,>=2.21.0 in c:\\users\\sanpa solutions\\desktop\\pavitraa\\ubantu\\lib\\site-packages (from tensorflow-intel==2.16.1->tensorflow->object_detection) (2.31.0)\n",
      "Requirement already satisfied: setuptools in c:\\users\\sanpa solutions\\desktop\\pavitraa\\ubantu\\lib\\site-packages (from tensorflow-intel==2.16.1->tensorflow->object_detection) (69.2.0)\n",
      "Requirement already satisfied: six>=1.12.0 in c:\\users\\sanpa solutions\\desktop\\pavitraa\\ubantu\\lib\\site-packages (from tensorflow-intel==2.16.1->tensorflow->object_detection) (1.16.0)\n",
      "Requirement already satisfied: termcolor>=1.1.0 in c:\\users\\sanpa solutions\\desktop\\pavitraa\\ubantu\\lib\\site-packages (from tensorflow-intel==2.16.1->tensorflow->object_detection) (2.4.0)\n",
      "Requirement already satisfied: typing-extensions>=3.6.6 in c:\\users\\sanpa solutions\\desktop\\pavitraa\\ubantu\\lib\\site-packages (from tensorflow-intel==2.16.1->tensorflow->object_detection) (4.10.0)\n",
      "Requirement already satisfied: wrapt>=1.11.0 in c:\\users\\sanpa solutions\\desktop\\pavitraa\\ubantu\\lib\\site-packages (from tensorflow-intel==2.16.1->tensorflow->object_detection) (1.16.0)\n",
      "Requirement already satisfied: grpcio<2.0,>=1.24.3 in c:\\users\\sanpa solutions\\desktop\\pavitraa\\ubantu\\lib\\site-packages (from tensorflow-intel==2.16.1->tensorflow->object_detection) (1.62.1)\n",
      "Requirement already satisfied: tensorboard<2.17,>=2.16 in c:\\users\\sanpa solutions\\desktop\\pavitraa\\ubantu\\lib\\site-packages (from tensorflow-intel==2.16.1->tensorflow->object_detection) (2.16.2)\n",
      "Requirement already satisfied: keras>=3.0.0 in c:\\users\\sanpa solutions\\desktop\\pavitraa\\ubantu\\lib\\site-packages (from tensorflow-intel==2.16.1->tensorflow->object_detection) (3.1.1)\n",
      "Requirement already satisfied: comm>=0.1.1 in c:\\users\\sanpa solutions\\desktop\\pavitraa\\ubantu\\lib\\site-packages (from ipykernel->jupyter->object_detection) (0.2.2)\n",
      "Requirement already satisfied: debugpy>=1.6.5 in c:\\users\\sanpa solutions\\desktop\\pavitraa\\ubantu\\lib\\site-packages (from ipykernel->jupyter->object_detection) (1.8.1)\n",
      "Requirement already satisfied: ipython>=7.23.1 in c:\\users\\sanpa solutions\\desktop\\pavitraa\\ubantu\\lib\\site-packages (from ipykernel->jupyter->object_detection) (8.23.0)\n",
      "Requirement already satisfied: jupyter-client>=6.1.12 in c:\\users\\sanpa solutions\\desktop\\pavitraa\\ubantu\\lib\\site-packages (from ipykernel->jupyter->object_detection) (8.6.1)\n",
      "Requirement already satisfied: jupyter-core!=5.0.*,>=4.12 in c:\\users\\sanpa solutions\\desktop\\pavitraa\\ubantu\\lib\\site-packages (from ipykernel->jupyter->object_detection) (5.7.2)\n",
      "Requirement already satisfied: matplotlib-inline>=0.1 in c:\\users\\sanpa solutions\\desktop\\pavitraa\\ubantu\\lib\\site-packages (from ipykernel->jupyter->object_detection) (0.1.6)\n",
      "Requirement already satisfied: nest-asyncio in c:\\users\\sanpa solutions\\desktop\\pavitraa\\ubantu\\lib\\site-packages (from ipykernel->jupyter->object_detection) (1.6.0)\n",
      "Requirement already satisfied: psutil in c:\\users\\sanpa solutions\\desktop\\pavitraa\\ubantu\\lib\\site-packages (from ipykernel->jupyter->object_detection) (5.9.8)\n",
      "Requirement already satisfied: pyzmq>=24 in c:\\users\\sanpa solutions\\desktop\\pavitraa\\ubantu\\lib\\site-packages (from ipykernel->jupyter->object_detection) (25.1.2)\n",
      "Requirement already satisfied: tornado>=6.1 in c:\\users\\sanpa solutions\\desktop\\pavitraa\\ubantu\\lib\\site-packages (from ipykernel->jupyter->object_detection) (6.4)\n",
      "Requirement already satisfied: traitlets>=5.4.0 in c:\\users\\sanpa solutions\\desktop\\pavitraa\\ubantu\\lib\\site-packages (from ipykernel->jupyter->object_detection) (5.14.2)\n",
      "Requirement already satisfied: widgetsnbextension~=4.0.10 in c:\\users\\sanpa solutions\\desktop\\pavitraa\\ubantu\\lib\\site-packages (from ipywidgets->jupyter->object_detection) (4.0.10)\n",
      "Requirement already satisfied: jupyterlab-widgets~=3.0.10 in c:\\users\\sanpa solutions\\desktop\\pavitraa\\ubantu\\lib\\site-packages (from ipywidgets->jupyter->object_detection) (3.0.10)\n",
      "Requirement already satisfied: prompt-toolkit>=3.0.30 in c:\\users\\sanpa solutions\\desktop\\pavitraa\\ubantu\\lib\\site-packages (from jupyter-console->jupyter->object_detection) (3.0.43)\n",
      "Requirement already satisfied: pygments in c:\\users\\sanpa solutions\\desktop\\pavitraa\\ubantu\\lib\\site-packages (from jupyter-console->jupyter->object_detection) (2.17.2)\n",
      "Requirement already satisfied: beautifulsoup4 in c:\\users\\sanpa solutions\\desktop\\pavitraa\\ubantu\\lib\\site-packages (from nbconvert->jupyter->object_detection) (4.12.3)\n",
      "Requirement already satisfied: bleach!=5.0.0 in c:\\users\\sanpa solutions\\desktop\\pavitraa\\ubantu\\lib\\site-packages (from nbconvert->jupyter->object_detection) (6.1.0)\n",
      "Requirement already satisfied: defusedxml in c:\\users\\sanpa solutions\\desktop\\pavitraa\\ubantu\\lib\\site-packages (from nbconvert->jupyter->object_detection) (0.7.1)\n",
      "Requirement already satisfied: jinja2>=3.0 in c:\\users\\sanpa solutions\\desktop\\pavitraa\\ubantu\\lib\\site-packages (from nbconvert->jupyter->object_detection) (3.1.3)\n",
      "Requirement already satisfied: jupyterlab-pygments in c:\\users\\sanpa solutions\\desktop\\pavitraa\\ubantu\\lib\\site-packages (from nbconvert->jupyter->object_detection) (0.3.0)\n",
      "Requirement already satisfied: markupsafe>=2.0 in c:\\users\\sanpa solutions\\desktop\\pavitraa\\ubantu\\lib\\site-packages (from nbconvert->jupyter->object_detection) (2.1.5)\n",
      "Requirement already satisfied: mistune<4,>=2.0.3 in c:\\users\\sanpa solutions\\desktop\\pavitraa\\ubantu\\lib\\site-packages (from nbconvert->jupyter->object_detection) (3.0.2)\n",
      "Requirement already satisfied: nbclient>=0.5.0 in c:\\users\\sanpa solutions\\desktop\\pavitraa\\ubantu\\lib\\site-packages (from nbconvert->jupyter->object_detection) (0.10.0)\n",
      "Requirement already satisfied: nbformat>=5.7 in c:\\users\\sanpa solutions\\desktop\\pavitraa\\ubantu\\lib\\site-packages (from nbconvert->jupyter->object_detection) (5.10.3)\n",
      "Requirement already satisfied: pandocfilters>=1.4.1 in c:\\users\\sanpa solutions\\desktop\\pavitraa\\ubantu\\lib\\site-packages (from nbconvert->jupyter->object_detection) (1.5.1)\n",
      "Requirement already satisfied: tinycss2 in c:\\users\\sanpa solutions\\desktop\\pavitraa\\ubantu\\lib\\site-packages (from nbconvert->jupyter->object_detection) (1.2.1)\n",
      "Requirement already satisfied: jupyter-server<3,>=2.4.0 in c:\\users\\sanpa solutions\\desktop\\pavitraa\\ubantu\\lib\\site-packages (from notebook->jupyter->object_detection) (2.13.0)\n",
      "Requirement already satisfied: jupyterlab-server<3,>=2.22.1 in c:\\users\\sanpa solutions\\desktop\\pavitraa\\ubantu\\lib\\site-packages (from notebook->jupyter->object_detection) (2.25.4)\n",
      "Requirement already satisfied: jupyterlab<4.2,>=4.1.1 in c:\\users\\sanpa solutions\\desktop\\pavitraa\\ubantu\\lib\\site-packages (from notebook->jupyter->object_detection) (4.1.5)\n",
      "Requirement already satisfied: notebook-shim<0.3,>=0.2 in c:\\users\\sanpa solutions\\desktop\\pavitraa\\ubantu\\lib\\site-packages (from notebook->jupyter->object_detection) (0.2.4)\n",
      "Requirement already satisfied: qtpy>=2.4.0 in c:\\users\\sanpa solutions\\desktop\\pavitraa\\ubantu\\lib\\site-packages (from qtconsole->jupyter->object_detection) (2.4.1)\n",
      "Requirement already satisfied: wheel<1.0,>=0.23.0 in c:\\users\\sanpa solutions\\desktop\\pavitraa\\ubantu\\lib\\site-packages (from astunparse>=1.6.0->tensorflow-intel==2.16.1->tensorflow->object_detection) (0.43.0)\n",
      "Requirement already satisfied: webencodings in c:\\users\\sanpa solutions\\desktop\\pavitraa\\ubantu\\lib\\site-packages (from bleach!=5.0.0->nbconvert->jupyter->object_detection) (0.5.1)\n",
      "Requirement already satisfied: decorator in c:\\users\\sanpa solutions\\desktop\\pavitraa\\ubantu\\lib\\site-packages (from ipython>=7.23.1->ipykernel->jupyter->object_detection) (5.1.1)\n",
      "Requirement already satisfied: jedi>=0.16 in c:\\users\\sanpa solutions\\desktop\\pavitraa\\ubantu\\lib\\site-packages (from ipython>=7.23.1->ipykernel->jupyter->object_detection) (0.19.1)\n",
      "Requirement already satisfied: stack-data in c:\\users\\sanpa solutions\\desktop\\pavitraa\\ubantu\\lib\\site-packages (from ipython>=7.23.1->ipykernel->jupyter->object_detection) (0.6.3)\n",
      "Requirement already satisfied: colorama in c:\\users\\sanpa solutions\\desktop\\pavitraa\\ubantu\\lib\\site-packages (from ipython>=7.23.1->ipykernel->jupyter->object_detection) (0.4.6)\n",
      "Requirement already satisfied: platformdirs>=2.5 in c:\\users\\sanpa solutions\\desktop\\pavitraa\\ubantu\\lib\\site-packages (from jupyter-core!=5.0.*,>=4.12->ipykernel->jupyter->object_detection) (4.2.0)\n",
      "Requirement already satisfied: pywin32>=300 in c:\\users\\sanpa solutions\\desktop\\pavitraa\\ubantu\\lib\\site-packages (from jupyter-core!=5.0.*,>=4.12->ipykernel->jupyter->object_detection) (306)\n",
      "Requirement already satisfied: anyio>=3.1.0 in c:\\users\\sanpa solutions\\desktop\\pavitraa\\ubantu\\lib\\site-packages (from jupyter-server<3,>=2.4.0->notebook->jupyter->object_detection) (4.3.0)\n",
      "Requirement already satisfied: argon2-cffi in c:\\users\\sanpa solutions\\desktop\\pavitraa\\ubantu\\lib\\site-packages (from jupyter-server<3,>=2.4.0->notebook->jupyter->object_detection) (23.1.0)\n",
      "Requirement already satisfied: jupyter-events>=0.9.0 in c:\\users\\sanpa solutions\\desktop\\pavitraa\\ubantu\\lib\\site-packages (from jupyter-server<3,>=2.4.0->notebook->jupyter->object_detection) (0.10.0)\n",
      "Requirement already satisfied: jupyter-server-terminals in c:\\users\\sanpa solutions\\desktop\\pavitraa\\ubantu\\lib\\site-packages (from jupyter-server<3,>=2.4.0->notebook->jupyter->object_detection) (0.5.3)\n",
      "Requirement already satisfied: overrides in c:\\users\\sanpa solutions\\desktop\\pavitraa\\ubantu\\lib\\site-packages (from jupyter-server<3,>=2.4.0->notebook->jupyter->object_detection) (7.7.0)\n",
      "Requirement already satisfied: prometheus-client in c:\\users\\sanpa solutions\\desktop\\pavitraa\\ubantu\\lib\\site-packages (from jupyter-server<3,>=2.4.0->notebook->jupyter->object_detection) (0.20.0)\n",
      "Requirement already satisfied: pywinpty in c:\\users\\sanpa solutions\\desktop\\pavitraa\\ubantu\\lib\\site-packages (from jupyter-server<3,>=2.4.0->notebook->jupyter->object_detection) (2.0.13)\n",
      "Requirement already satisfied: send2trash>=1.8.2 in c:\\users\\sanpa solutions\\desktop\\pavitraa\\ubantu\\lib\\site-packages (from jupyter-server<3,>=2.4.0->notebook->jupyter->object_detection) (1.8.2)\n",
      "Requirement already satisfied: terminado>=0.8.3 in c:\\users\\sanpa solutions\\desktop\\pavitraa\\ubantu\\lib\\site-packages (from jupyter-server<3,>=2.4.0->notebook->jupyter->object_detection) (0.18.1)\n",
      "Requirement already satisfied: websocket-client in c:\\users\\sanpa solutions\\desktop\\pavitraa\\ubantu\\lib\\site-packages (from jupyter-server<3,>=2.4.0->notebook->jupyter->object_detection) (1.7.0)\n",
      "Requirement already satisfied: async-lru>=1.0.0 in c:\\users\\sanpa solutions\\desktop\\pavitraa\\ubantu\\lib\\site-packages (from jupyterlab<4.2,>=4.1.1->notebook->jupyter->object_detection) (2.0.4)\n",
      "Requirement already satisfied: httpx>=0.25.0 in c:\\users\\sanpa solutions\\desktop\\pavitraa\\ubantu\\lib\\site-packages (from jupyterlab<4.2,>=4.1.1->notebook->jupyter->object_detection) (0.27.0)\n",
      "Requirement already satisfied: jupyter-lsp>=2.0.0 in c:\\users\\sanpa solutions\\desktop\\pavitraa\\ubantu\\lib\\site-packages (from jupyterlab<4.2,>=4.1.1->notebook->jupyter->object_detection) (2.2.4)\n",
      "Requirement already satisfied: babel>=2.10 in c:\\users\\sanpa solutions\\desktop\\pavitraa\\ubantu\\lib\\site-packages (from jupyterlab-server<3,>=2.22.1->notebook->jupyter->object_detection) (2.14.0)\n",
      "Requirement already satisfied: json5>=0.9.0 in c:\\users\\sanpa solutions\\desktop\\pavitraa\\ubantu\\lib\\site-packages (from jupyterlab-server<3,>=2.22.1->notebook->jupyter->object_detection) (0.9.24)\n",
      "Requirement already satisfied: jsonschema>=4.18.0 in c:\\users\\sanpa solutions\\desktop\\pavitraa\\ubantu\\lib\\site-packages (from jupyterlab-server<3,>=2.22.1->notebook->jupyter->object_detection) (4.21.1)\n",
      "Requirement already satisfied: rich in c:\\users\\sanpa solutions\\desktop\\pavitraa\\ubantu\\lib\\site-packages (from keras>=3.0.0->tensorflow-intel==2.16.1->tensorflow->object_detection) (13.7.1)\n",
      "Requirement already satisfied: namex in c:\\users\\sanpa solutions\\desktop\\pavitraa\\ubantu\\lib\\site-packages (from keras>=3.0.0->tensorflow-intel==2.16.1->tensorflow->object_detection) (0.0.7)\n",
      "Requirement already satisfied: optree in c:\\users\\sanpa solutions\\desktop\\pavitraa\\ubantu\\lib\\site-packages (from keras>=3.0.0->tensorflow-intel==2.16.1->tensorflow->object_detection) (0.11.0)\n",
      "Requirement already satisfied: fastjsonschema in c:\\users\\sanpa solutions\\desktop\\pavitraa\\ubantu\\lib\\site-packages (from nbformat>=5.7->nbconvert->jupyter->object_detection) (2.19.1)\n",
      "Requirement already satisfied: wcwidth in c:\\users\\sanpa solutions\\desktop\\pavitraa\\ubantu\\lib\\site-packages (from prompt-toolkit>=3.0.30->jupyter-console->jupyter->object_detection) (0.2.13)\n",
      "Requirement already satisfied: charset-normalizer<4,>=2 in c:\\users\\sanpa solutions\\desktop\\pavitraa\\ubantu\\lib\\site-packages (from requests<3,>=2.21.0->tensorflow-intel==2.16.1->tensorflow->object_detection) (3.3.2)\n",
      "Requirement already satisfied: idna<4,>=2.5 in c:\\users\\sanpa solutions\\desktop\\pavitraa\\ubantu\\lib\\site-packages (from requests<3,>=2.21.0->tensorflow-intel==2.16.1->tensorflow->object_detection) (3.6)\n",
      "Requirement already satisfied: urllib3<3,>=1.21.1 in c:\\users\\sanpa solutions\\desktop\\pavitraa\\ubantu\\lib\\site-packages (from requests<3,>=2.21.0->tensorflow-intel==2.16.1->tensorflow->object_detection) (2.2.1)\n",
      "Requirement already satisfied: certifi>=2017.4.17 in c:\\users\\sanpa solutions\\desktop\\pavitraa\\ubantu\\lib\\site-packages (from requests<3,>=2.21.0->tensorflow-intel==2.16.1->tensorflow->object_detection) (2024.2.2)\n",
      "Requirement already satisfied: markdown>=2.6.8 in c:\\users\\sanpa solutions\\desktop\\pavitraa\\ubantu\\lib\\site-packages (from tensorboard<2.17,>=2.16->tensorflow-intel==2.16.1->tensorflow->object_detection) (3.6)\n",
      "Requirement already satisfied: tensorboard-data-server<0.8.0,>=0.7.0 in c:\\users\\sanpa solutions\\desktop\\pavitraa\\ubantu\\lib\\site-packages (from tensorboard<2.17,>=2.16->tensorflow-intel==2.16.1->tensorflow->object_detection) (0.7.2)\n",
      "Requirement already satisfied: werkzeug>=1.0.1 in c:\\users\\sanpa solutions\\desktop\\pavitraa\\ubantu\\lib\\site-packages (from tensorboard<2.17,>=2.16->tensorflow-intel==2.16.1->tensorflow->object_detection) (3.0.2)\n",
      "Requirement already satisfied: soupsieve>1.2 in c:\\users\\sanpa solutions\\desktop\\pavitraa\\ubantu\\lib\\site-packages (from beautifulsoup4->nbconvert->jupyter->object_detection) (2.5)\n",
      "Requirement already satisfied: sniffio>=1.1 in c:\\users\\sanpa solutions\\desktop\\pavitraa\\ubantu\\lib\\site-packages (from anyio>=3.1.0->jupyter-server<3,>=2.4.0->notebook->jupyter->object_detection) (1.3.1)\n",
      "Requirement already satisfied: httpcore==1.* in c:\\users\\sanpa solutions\\desktop\\pavitraa\\ubantu\\lib\\site-packages (from httpx>=0.25.0->jupyterlab<4.2,>=4.1.1->notebook->jupyter->object_detection) (1.0.5)\n",
      "Requirement already satisfied: h11<0.15,>=0.13 in c:\\users\\sanpa solutions\\desktop\\pavitraa\\ubantu\\lib\\site-packages (from httpcore==1.*->httpx>=0.25.0->jupyterlab<4.2,>=4.1.1->notebook->jupyter->object_detection) (0.14.0)\n",
      "Requirement already satisfied: parso<0.9.0,>=0.8.3 in c:\\users\\sanpa solutions\\desktop\\pavitraa\\ubantu\\lib\\site-packages (from jedi>=0.16->ipython>=7.23.1->ipykernel->jupyter->object_detection) (0.8.3)\n",
      "Requirement already satisfied: attrs>=22.2.0 in c:\\users\\sanpa solutions\\desktop\\pavitraa\\ubantu\\lib\\site-packages (from jsonschema>=4.18.0->jupyterlab-server<3,>=2.22.1->notebook->jupyter->object_detection) (23.2.0)\n",
      "Requirement already satisfied: jsonschema-specifications>=2023.03.6 in c:\\users\\sanpa solutions\\desktop\\pavitraa\\ubantu\\lib\\site-packages (from jsonschema>=4.18.0->jupyterlab-server<3,>=2.22.1->notebook->jupyter->object_detection) (2023.12.1)\n",
      "Requirement already satisfied: referencing>=0.28.4 in c:\\users\\sanpa solutions\\desktop\\pavitraa\\ubantu\\lib\\site-packages (from jsonschema>=4.18.0->jupyterlab-server<3,>=2.22.1->notebook->jupyter->object_detection) (0.34.0)\n",
      "Requirement already satisfied: rpds-py>=0.7.1 in c:\\users\\sanpa solutions\\desktop\\pavitraa\\ubantu\\lib\\site-packages (from jsonschema>=4.18.0->jupyterlab-server<3,>=2.22.1->notebook->jupyter->object_detection) (0.18.0)\n",
      "Requirement already satisfied: python-json-logger>=2.0.4 in c:\\users\\sanpa solutions\\desktop\\pavitraa\\ubantu\\lib\\site-packages (from jupyter-events>=0.9.0->jupyter-server<3,>=2.4.0->notebook->jupyter->object_detection) (2.0.7)\n",
      "Requirement already satisfied: pyyaml>=5.3 in c:\\users\\sanpa solutions\\desktop\\pavitraa\\ubantu\\lib\\site-packages (from jupyter-events>=0.9.0->jupyter-server<3,>=2.4.0->notebook->jupyter->object_detection) (6.0.1)\n",
      "Requirement already satisfied: rfc3339-validator in c:\\users\\sanpa solutions\\desktop\\pavitraa\\ubantu\\lib\\site-packages (from jupyter-events>=0.9.0->jupyter-server<3,>=2.4.0->notebook->jupyter->object_detection) (0.1.4)\n",
      "Requirement already satisfied: rfc3986-validator>=0.1.1 in c:\\users\\sanpa solutions\\desktop\\pavitraa\\ubantu\\lib\\site-packages (from jupyter-events>=0.9.0->jupyter-server<3,>=2.4.0->notebook->jupyter->object_detection) (0.1.1)\n",
      "Requirement already satisfied: argon2-cffi-bindings in c:\\users\\sanpa solutions\\desktop\\pavitraa\\ubantu\\lib\\site-packages (from argon2-cffi->jupyter-server<3,>=2.4.0->notebook->jupyter->object_detection) (21.2.0)\n",
      "Requirement already satisfied: markdown-it-py>=2.2.0 in c:\\users\\sanpa solutions\\desktop\\pavitraa\\ubantu\\lib\\site-packages (from rich->keras>=3.0.0->tensorflow-intel==2.16.1->tensorflow->object_detection) (3.0.0)\n",
      "Requirement already satisfied: executing>=1.2.0 in c:\\users\\sanpa solutions\\desktop\\pavitraa\\ubantu\\lib\\site-packages (from stack-data->ipython>=7.23.1->ipykernel->jupyter->object_detection) (2.0.1)\n",
      "Requirement already satisfied: asttokens>=2.1.0 in c:\\users\\sanpa solutions\\desktop\\pavitraa\\ubantu\\lib\\site-packages (from stack-data->ipython>=7.23.1->ipykernel->jupyter->object_detection) (2.4.1)\n",
      "Requirement already satisfied: pure-eval in c:\\users\\sanpa solutions\\desktop\\pavitraa\\ubantu\\lib\\site-packages (from stack-data->ipython>=7.23.1->ipykernel->jupyter->object_detection) (0.2.2)\n",
      "Requirement already satisfied: fqdn in c:\\users\\sanpa solutions\\desktop\\pavitraa\\ubantu\\lib\\site-packages (from jsonschema>=4.18.0->jupyterlab-server<3,>=2.22.1->notebook->jupyter->object_detection) (1.5.1)\n",
      "Requirement already satisfied: isoduration in c:\\users\\sanpa solutions\\desktop\\pavitraa\\ubantu\\lib\\site-packages (from jsonschema>=4.18.0->jupyterlab-server<3,>=2.22.1->notebook->jupyter->object_detection) (20.11.0)\n",
      "Requirement already satisfied: jsonpointer>1.13 in c:\\users\\sanpa solutions\\desktop\\pavitraa\\ubantu\\lib\\site-packages (from jsonschema>=4.18.0->jupyterlab-server<3,>=2.22.1->notebook->jupyter->object_detection) (2.4)\n",
      "Requirement already satisfied: uri-template in c:\\users\\sanpa solutions\\desktop\\pavitraa\\ubantu\\lib\\site-packages (from jsonschema>=4.18.0->jupyterlab-server<3,>=2.22.1->notebook->jupyter->object_detection) (1.3.0)\n",
      "Requirement already satisfied: webcolors>=1.11 in c:\\users\\sanpa solutions\\desktop\\pavitraa\\ubantu\\lib\\site-packages (from jsonschema>=4.18.0->jupyterlab-server<3,>=2.22.1->notebook->jupyter->object_detection) (1.13)\n",
      "Requirement already satisfied: mdurl~=0.1 in c:\\users\\sanpa solutions\\desktop\\pavitraa\\ubantu\\lib\\site-packages (from markdown-it-py>=2.2.0->rich->keras>=3.0.0->tensorflow-intel==2.16.1->tensorflow->object_detection) (0.1.2)\n",
      "Requirement already satisfied: cffi>=1.0.1 in c:\\users\\sanpa solutions\\desktop\\pavitraa\\ubantu\\lib\\site-packages (from argon2-cffi-bindings->argon2-cffi->jupyter-server<3,>=2.4.0->notebook->jupyter->object_detection) (1.16.0)\n",
      "Requirement already satisfied: pycparser in c:\\users\\sanpa solutions\\desktop\\pavitraa\\ubantu\\lib\\site-packages (from cffi>=1.0.1->argon2-cffi-bindings->argon2-cffi->jupyter-server<3,>=2.4.0->notebook->jupyter->object_detection) (2.22)\n",
      "Requirement already satisfied: arrow>=0.15.0 in c:\\users\\sanpa solutions\\desktop\\pavitraa\\ubantu\\lib\\site-packages (from isoduration->jsonschema>=4.18.0->jupyterlab-server<3,>=2.22.1->notebook->jupyter->object_detection) (1.3.0)\n",
      "Requirement already satisfied: types-python-dateutil>=2.8.10 in c:\\users\\sanpa solutions\\desktop\\pavitraa\\ubantu\\lib\\site-packages (from arrow>=0.15.0->isoduration->jsonschema>=4.18.0->jupyterlab-server<3,>=2.22.1->notebook->jupyter->object_detection) (2.9.0.20240316)\n"
     ]
    },
    {
     "name": "stderr",
     "output_type": "stream",
     "text": [
      "\n",
      "[notice] A new release of pip is available: 23.2.1 -> 24.0\n",
      "[notice] To update, run: python.exe -m pip install --upgrade pip\n"
     ]
    }
   ],
   "source": [
    "!pip install object_detection"
   ]
  },
  {
   "cell_type": "code",
   "execution_count": 8,
   "metadata": {},
   "outputs": [
    {
     "name": "stdout",
     "output_type": "stream",
     "text": [
      "Collecting tensorflow-object-detection-api\n",
      "  Downloading tensorflow_object_detection_api-0.1.1.tar.gz (577 kB)\n",
      "     ---------------------------------------- 0.0/577.4 kB ? eta -:--:--\n",
      "      --------------------------------------- 10.2/577.4 kB ? eta -:--:--\n",
      "     - ----------------------------------- 30.7/577.4 kB 640.0 kB/s eta 0:00:01\n",
      "     - ----------------------------------- 30.7/577.4 kB 640.0 kB/s eta 0:00:01\n",
      "     - ----------------------------------- 30.7/577.4 kB 640.0 kB/s eta 0:00:01\n",
      "     -- ---------------------------------- 41.0/577.4 kB 195.7 kB/s eta 0:00:03\n",
      "     -- ---------------------------------- 41.0/577.4 kB 195.7 kB/s eta 0:00:03\n",
      "     -- ---------------------------------- 41.0/577.4 kB 195.7 kB/s eta 0:00:03\n",
      "     ----- ------------------------------- 81.9/577.4 kB 254.2 kB/s eta 0:00:02\n",
      "     ----- ------------------------------- 81.9/577.4 kB 254.2 kB/s eta 0:00:02\n",
      "     ------- ---------------------------- 122.9/577.4 kB 300.4 kB/s eta 0:00:02\n",
      "     ------------ ----------------------- 204.8/577.4 kB 461.0 kB/s eta 0:00:01\n",
      "     ------------------------ ----------- 389.1/577.4 kB 807.8 kB/s eta 0:00:01\n",
      "     ------------------------------- ---- 501.8/577.4 kB 952.6 kB/s eta 0:00:01\n",
      "     -------------------------------------- 577.4/577.4 kB 1.0 MB/s eta 0:00:00\n",
      "  Preparing metadata (setup.py): started\n",
      "  Preparing metadata (setup.py): finished with status 'done'\n",
      "Requirement already satisfied: Pillow>=1.0 in c:\\users\\sanpa solutions\\desktop\\pavitraa\\ubantu\\lib\\site-packages (from tensorflow-object-detection-api) (10.3.0)\n",
      "Requirement already satisfied: Matplotlib>=2.1 in c:\\users\\sanpa solutions\\desktop\\pavitraa\\ubantu\\lib\\site-packages (from tensorflow-object-detection-api) (3.8.4)\n",
      "Requirement already satisfied: Cython>=0.28.1 in c:\\users\\sanpa solutions\\desktop\\pavitraa\\ubantu\\lib\\site-packages (from tensorflow-object-detection-api) (3.0.10)\n",
      "Requirement already satisfied: Protobuf in c:\\users\\sanpa solutions\\desktop\\pavitraa\\ubantu\\lib\\site-packages (from tensorflow-object-detection-api) (4.25.3)\n",
      "Requirement already satisfied: lxml in c:\\users\\sanpa solutions\\desktop\\pavitraa\\ubantu\\lib\\site-packages (from tensorflow-object-detection-api) (5.2.1)\n",
      "Requirement already satisfied: jupyter in c:\\users\\sanpa solutions\\desktop\\pavitraa\\ubantu\\lib\\site-packages (from tensorflow-object-detection-api) (1.0.0)\n",
      "Requirement already satisfied: tensorflow in c:\\users\\sanpa solutions\\desktop\\pavitraa\\ubantu\\lib\\site-packages (from tensorflow-object-detection-api) (2.16.1)\n",
      "Requirement already satisfied: contextlib2 in c:\\users\\sanpa solutions\\desktop\\pavitraa\\ubantu\\lib\\site-packages (from tensorflow-object-detection-api) (21.6.0)\n",
      "Requirement already satisfied: wheel in c:\\users\\sanpa solutions\\desktop\\pavitraa\\ubantu\\lib\\site-packages (from tensorflow-object-detection-api) (0.43.0)\n",
      "Collecting twine (from tensorflow-object-detection-api)\n",
      "  Obtaining dependency information for twine from https://files.pythonhosted.org/packages/9a/d4/4db90c4a2b8c1006ea3e6291f36b50b66e45887cf17b3b958b5d646fb837/twine-5.0.0-py3-none-any.whl.metadata\n",
      "  Downloading twine-5.0.0-py3-none-any.whl.metadata (3.3 kB)\n",
      "Requirement already satisfied: contourpy>=1.0.1 in c:\\users\\sanpa solutions\\desktop\\pavitraa\\ubantu\\lib\\site-packages (from Matplotlib>=2.1->tensorflow-object-detection-api) (1.2.1)\n",
      "Requirement already satisfied: cycler>=0.10 in c:\\users\\sanpa solutions\\desktop\\pavitraa\\ubantu\\lib\\site-packages (from Matplotlib>=2.1->tensorflow-object-detection-api) (0.12.1)\n",
      "Requirement already satisfied: fonttools>=4.22.0 in c:\\users\\sanpa solutions\\desktop\\pavitraa\\ubantu\\lib\\site-packages (from Matplotlib>=2.1->tensorflow-object-detection-api) (4.51.0)\n",
      "Requirement already satisfied: kiwisolver>=1.3.1 in c:\\users\\sanpa solutions\\desktop\\pavitraa\\ubantu\\lib\\site-packages (from Matplotlib>=2.1->tensorflow-object-detection-api) (1.4.5)\n",
      "Requirement already satisfied: numpy>=1.21 in c:\\users\\sanpa solutions\\desktop\\pavitraa\\ubantu\\lib\\site-packages (from Matplotlib>=2.1->tensorflow-object-detection-api) (1.26.4)\n",
      "Requirement already satisfied: packaging>=20.0 in c:\\users\\sanpa solutions\\desktop\\pavitraa\\ubantu\\lib\\site-packages (from Matplotlib>=2.1->tensorflow-object-detection-api) (24.0)\n",
      "Requirement already satisfied: pyparsing>=2.3.1 in c:\\users\\sanpa solutions\\desktop\\pavitraa\\ubantu\\lib\\site-packages (from Matplotlib>=2.1->tensorflow-object-detection-api) (3.1.2)\n",
      "Requirement already satisfied: python-dateutil>=2.7 in c:\\users\\sanpa solutions\\desktop\\pavitraa\\ubantu\\lib\\site-packages (from Matplotlib>=2.1->tensorflow-object-detection-api) (2.9.0.post0)\n",
      "Requirement already satisfied: notebook in c:\\users\\sanpa solutions\\desktop\\pavitraa\\ubantu\\lib\\site-packages (from jupyter->tensorflow-object-detection-api) (7.1.2)\n",
      "Requirement already satisfied: qtconsole in c:\\users\\sanpa solutions\\desktop\\pavitraa\\ubantu\\lib\\site-packages (from jupyter->tensorflow-object-detection-api) (5.5.1)\n",
      "Requirement already satisfied: jupyter-console in c:\\users\\sanpa solutions\\desktop\\pavitraa\\ubantu\\lib\\site-packages (from jupyter->tensorflow-object-detection-api) (6.6.3)\n",
      "Requirement already satisfied: nbconvert in c:\\users\\sanpa solutions\\desktop\\pavitraa\\ubantu\\lib\\site-packages (from jupyter->tensorflow-object-detection-api) (7.16.3)\n",
      "Requirement already satisfied: ipykernel in c:\\users\\sanpa solutions\\desktop\\pavitraa\\ubantu\\lib\\site-packages (from jupyter->tensorflow-object-detection-api) (6.29.4)\n",
      "Requirement already satisfied: ipywidgets in c:\\users\\sanpa solutions\\desktop\\pavitraa\\ubantu\\lib\\site-packages (from jupyter->tensorflow-object-detection-api) (8.1.2)\n",
      "Requirement already satisfied: tensorflow-intel==2.16.1 in c:\\users\\sanpa solutions\\desktop\\pavitraa\\ubantu\\lib\\site-packages (from tensorflow->tensorflow-object-detection-api) (2.16.1)\n",
      "Requirement already satisfied: absl-py>=1.0.0 in c:\\users\\sanpa solutions\\desktop\\pavitraa\\ubantu\\lib\\site-packages (from tensorflow-intel==2.16.1->tensorflow->tensorflow-object-detection-api) (2.1.0)\n",
      "Requirement already satisfied: astunparse>=1.6.0 in c:\\users\\sanpa solutions\\desktop\\pavitraa\\ubantu\\lib\\site-packages (from tensorflow-intel==2.16.1->tensorflow->tensorflow-object-detection-api) (1.6.3)\n",
      "Requirement already satisfied: flatbuffers>=23.5.26 in c:\\users\\sanpa solutions\\desktop\\pavitraa\\ubantu\\lib\\site-packages (from tensorflow-intel==2.16.1->tensorflow->tensorflow-object-detection-api) (24.3.25)\n",
      "Requirement already satisfied: gast!=0.5.0,!=0.5.1,!=0.5.2,>=0.2.1 in c:\\users\\sanpa solutions\\desktop\\pavitraa\\ubantu\\lib\\site-packages (from tensorflow-intel==2.16.1->tensorflow->tensorflow-object-detection-api) (0.5.4)\n",
      "Requirement already satisfied: google-pasta>=0.1.1 in c:\\users\\sanpa solutions\\desktop\\pavitraa\\ubantu\\lib\\site-packages (from tensorflow-intel==2.16.1->tensorflow->tensorflow-object-detection-api) (0.2.0)\n",
      "Requirement already satisfied: h5py>=3.10.0 in c:\\users\\sanpa solutions\\desktop\\pavitraa\\ubantu\\lib\\site-packages (from tensorflow-intel==2.16.1->tensorflow->tensorflow-object-detection-api) (3.10.0)\n",
      "Requirement already satisfied: libclang>=13.0.0 in c:\\users\\sanpa solutions\\desktop\\pavitraa\\ubantu\\lib\\site-packages (from tensorflow-intel==2.16.1->tensorflow->tensorflow-object-detection-api) (18.1.1)\n",
      "Requirement already satisfied: ml-dtypes~=0.3.1 in c:\\users\\sanpa solutions\\desktop\\pavitraa\\ubantu\\lib\\site-packages (from tensorflow-intel==2.16.1->tensorflow->tensorflow-object-detection-api) (0.3.2)\n",
      "Requirement already satisfied: opt-einsum>=2.3.2 in c:\\users\\sanpa solutions\\desktop\\pavitraa\\ubantu\\lib\\site-packages (from tensorflow-intel==2.16.1->tensorflow->tensorflow-object-detection-api) (3.3.0)\n",
      "Requirement already satisfied: requests<3,>=2.21.0 in c:\\users\\sanpa solutions\\desktop\\pavitraa\\ubantu\\lib\\site-packages (from tensorflow-intel==2.16.1->tensorflow->tensorflow-object-detection-api) (2.31.0)\n",
      "Requirement already satisfied: setuptools in c:\\users\\sanpa solutions\\desktop\\pavitraa\\ubantu\\lib\\site-packages (from tensorflow-intel==2.16.1->tensorflow->tensorflow-object-detection-api) (69.2.0)\n",
      "Requirement already satisfied: six>=1.12.0 in c:\\users\\sanpa solutions\\desktop\\pavitraa\\ubantu\\lib\\site-packages (from tensorflow-intel==2.16.1->tensorflow->tensorflow-object-detection-api) (1.16.0)\n",
      "Requirement already satisfied: termcolor>=1.1.0 in c:\\users\\sanpa solutions\\desktop\\pavitraa\\ubantu\\lib\\site-packages (from tensorflow-intel==2.16.1->tensorflow->tensorflow-object-detection-api) (2.4.0)\n",
      "Requirement already satisfied: typing-extensions>=3.6.6 in c:\\users\\sanpa solutions\\desktop\\pavitraa\\ubantu\\lib\\site-packages (from tensorflow-intel==2.16.1->tensorflow->tensorflow-object-detection-api) (4.10.0)\n",
      "Requirement already satisfied: wrapt>=1.11.0 in c:\\users\\sanpa solutions\\desktop\\pavitraa\\ubantu\\lib\\site-packages (from tensorflow-intel==2.16.1->tensorflow->tensorflow-object-detection-api) (1.16.0)\n",
      "Requirement already satisfied: grpcio<2.0,>=1.24.3 in c:\\users\\sanpa solutions\\desktop\\pavitraa\\ubantu\\lib\\site-packages (from tensorflow-intel==2.16.1->tensorflow->tensorflow-object-detection-api) (1.62.1)\n",
      "Requirement already satisfied: tensorboard<2.17,>=2.16 in c:\\users\\sanpa solutions\\desktop\\pavitraa\\ubantu\\lib\\site-packages (from tensorflow-intel==2.16.1->tensorflow->tensorflow-object-detection-api) (2.16.2)\n",
      "Requirement already satisfied: keras>=3.0.0 in c:\\users\\sanpa solutions\\desktop\\pavitraa\\ubantu\\lib\\site-packages (from tensorflow-intel==2.16.1->tensorflow->tensorflow-object-detection-api) (3.1.1)\n",
      "Collecting pkginfo>=1.8.1 (from twine->tensorflow-object-detection-api)\n",
      "  Obtaining dependency information for pkginfo>=1.8.1 from https://files.pythonhosted.org/packages/56/09/054aea9b7534a15ad38a363a2bd974c20646ab1582a387a95b8df1bfea1c/pkginfo-1.10.0-py3-none-any.whl.metadata\n",
      "  Downloading pkginfo-1.10.0-py3-none-any.whl.metadata (11 kB)\n",
      "Collecting readme-renderer>=35.0 (from twine->tensorflow-object-detection-api)\n",
      "  Obtaining dependency information for readme-renderer>=35.0 from https://files.pythonhosted.org/packages/45/be/3ea20dc38b9db08387cf97997a85a7d51527ea2057d71118feb0aa8afa55/readme_renderer-43.0-py3-none-any.whl.metadata\n",
      "  Downloading readme_renderer-43.0-py3-none-any.whl.metadata (2.8 kB)\n",
      "Collecting requests-toolbelt!=0.9.0,>=0.8.0 (from twine->tensorflow-object-detection-api)\n",
      "  Obtaining dependency information for requests-toolbelt!=0.9.0,>=0.8.0 from https://files.pythonhosted.org/packages/3f/51/d4db610ef29373b879047326cbf6fa98b6c1969d6f6dc423279de2b1be2c/requests_toolbelt-1.0.0-py2.py3-none-any.whl.metadata\n",
      "  Downloading requests_toolbelt-1.0.0-py2.py3-none-any.whl.metadata (14 kB)\n",
      "Requirement already satisfied: urllib3>=1.26.0 in c:\\users\\sanpa solutions\\desktop\\pavitraa\\ubantu\\lib\\site-packages (from twine->tensorflow-object-detection-api) (2.2.1)\n",
      "Collecting importlib-metadata>=3.6 (from twine->tensorflow-object-detection-api)\n",
      "  Obtaining dependency information for importlib-metadata>=3.6 from https://files.pythonhosted.org/packages/2d/0a/679461c511447ffaf176567d5c496d1de27cbe34a87df6677d7171b2fbd4/importlib_metadata-7.1.0-py3-none-any.whl.metadata\n",
      "  Downloading importlib_metadata-7.1.0-py3-none-any.whl.metadata (4.7 kB)\n",
      "Collecting keyring>=15.1 (from twine->tensorflow-object-detection-api)\n",
      "  Obtaining dependency information for keyring>=15.1 from https://files.pythonhosted.org/packages/51/8b/0728346fb9d69c2be2c67a315fc1a53c1a58959fcbdbebdb852d01b156a9/keyring-25.1.0-py3-none-any.whl.metadata\n",
      "  Downloading keyring-25.1.0-py3-none-any.whl.metadata (20 kB)\n",
      "Collecting rfc3986>=1.4.0 (from twine->tensorflow-object-detection-api)\n",
      "  Obtaining dependency information for rfc3986>=1.4.0 from https://files.pythonhosted.org/packages/ff/9a/9afaade874b2fa6c752c36f1548f718b5b83af81ed9b76628329dab81c1b/rfc3986-2.0.0-py2.py3-none-any.whl.metadata\n",
      "  Downloading rfc3986-2.0.0-py2.py3-none-any.whl.metadata (6.6 kB)\n",
      "Requirement already satisfied: rich>=12.0.0 in c:\\users\\sanpa solutions\\desktop\\pavitraa\\ubantu\\lib\\site-packages (from twine->tensorflow-object-detection-api) (13.7.1)\n",
      "Collecting zipp>=0.5 (from importlib-metadata>=3.6->twine->tensorflow-object-detection-api)\n",
      "  Obtaining dependency information for zipp>=0.5 from https://files.pythonhosted.org/packages/c2/0a/ba9d0ee9536d3ef73a3448e931776e658b36f128d344e175bc32b092a8bf/zipp-3.18.1-py3-none-any.whl.metadata\n",
      "  Downloading zipp-3.18.1-py3-none-any.whl.metadata (3.5 kB)\n",
      "Collecting jaraco.classes (from keyring>=15.1->twine->tensorflow-object-detection-api)\n",
      "  Obtaining dependency information for jaraco.classes from https://files.pythonhosted.org/packages/7f/66/b15ce62552d84bbfcec9a4873ab79d993a1dd4edb922cbfccae192bd5b5f/jaraco.classes-3.4.0-py3-none-any.whl.metadata\n",
      "  Downloading jaraco.classes-3.4.0-py3-none-any.whl.metadata (2.6 kB)\n",
      "Collecting jaraco.functools (from keyring>=15.1->twine->tensorflow-object-detection-api)\n",
      "  Obtaining dependency information for jaraco.functools from https://files.pythonhosted.org/packages/4c/57/726a9c80c1b36f98b497debd72f4c81ae444d55abf9647367e5d53e1cc93/jaraco.functools-4.0.0-py3-none-any.whl.metadata\n",
      "  Downloading jaraco.functools-4.0.0-py3-none-any.whl.metadata (3.1 kB)\n",
      "Collecting jaraco.context (from keyring>=15.1->twine->tensorflow-object-detection-api)\n",
      "  Obtaining dependency information for jaraco.context from https://files.pythonhosted.org/packages/d2/40/11b7bc1898cf1dcb87ccbe09b39f5088634ac78bb25f3383ff541c2b40aa/jaraco.context-5.3.0-py3-none-any.whl.metadata\n",
      "  Downloading jaraco.context-5.3.0-py3-none-any.whl.metadata (4.0 kB)\n",
      "Collecting pywin32-ctypes>=0.2.0 (from keyring>=15.1->twine->tensorflow-object-detection-api)\n",
      "  Obtaining dependency information for pywin32-ctypes>=0.2.0 from https://files.pythonhosted.org/packages/a4/bc/78b2c00cc64c31dbb3be42a0e8600bcebc123ad338c3b714754d668c7c2d/pywin32_ctypes-0.2.2-py3-none-any.whl.metadata\n",
      "  Downloading pywin32_ctypes-0.2.2-py3-none-any.whl.metadata (3.8 kB)\n",
      "Collecting nh3>=0.2.14 (from readme-renderer>=35.0->twine->tensorflow-object-detection-api)\n",
      "  Obtaining dependency information for nh3>=0.2.14 from https://files.pythonhosted.org/packages/9d/52/ebab65758efae7980b15cdea290f0957ac3b25df6cbc098d9747c2b02bd3/nh3-0.2.17-cp37-abi3-win_amd64.whl.metadata\n",
      "  Downloading nh3-0.2.17-cp37-abi3-win_amd64.whl.metadata (1.8 kB)\n",
      "Collecting docutils>=0.13.1 (from readme-renderer>=35.0->twine->tensorflow-object-detection-api)\n",
      "  Obtaining dependency information for docutils>=0.13.1 from https://files.pythonhosted.org/packages/26/87/f238c0670b94533ac0353a4e2a1a771a0cc73277b88bff23d3ae35a256c1/docutils-0.20.1-py3-none-any.whl.metadata\n",
      "  Downloading docutils-0.20.1-py3-none-any.whl.metadata (2.8 kB)\n",
      "Requirement already satisfied: Pygments>=2.5.1 in c:\\users\\sanpa solutions\\desktop\\pavitraa\\ubantu\\lib\\site-packages (from readme-renderer>=35.0->twine->tensorflow-object-detection-api) (2.17.2)\n",
      "Requirement already satisfied: charset-normalizer<4,>=2 in c:\\users\\sanpa solutions\\desktop\\pavitraa\\ubantu\\lib\\site-packages (from requests<3,>=2.21.0->tensorflow-intel==2.16.1->tensorflow->tensorflow-object-detection-api) (3.3.2)\n",
      "Requirement already satisfied: idna<4,>=2.5 in c:\\users\\sanpa solutions\\desktop\\pavitraa\\ubantu\\lib\\site-packages (from requests<3,>=2.21.0->tensorflow-intel==2.16.1->tensorflow->tensorflow-object-detection-api) (3.6)\n",
      "Requirement already satisfied: certifi>=2017.4.17 in c:\\users\\sanpa solutions\\desktop\\pavitraa\\ubantu\\lib\\site-packages (from requests<3,>=2.21.0->tensorflow-intel==2.16.1->tensorflow->tensorflow-object-detection-api) (2024.2.2)\n",
      "Requirement already satisfied: markdown-it-py>=2.2.0 in c:\\users\\sanpa solutions\\desktop\\pavitraa\\ubantu\\lib\\site-packages (from rich>=12.0.0->twine->tensorflow-object-detection-api) (3.0.0)\n",
      "Requirement already satisfied: comm>=0.1.1 in c:\\users\\sanpa solutions\\desktop\\pavitraa\\ubantu\\lib\\site-packages (from ipykernel->jupyter->tensorflow-object-detection-api) (0.2.2)\n",
      "Requirement already satisfied: debugpy>=1.6.5 in c:\\users\\sanpa solutions\\desktop\\pavitraa\\ubantu\\lib\\site-packages (from ipykernel->jupyter->tensorflow-object-detection-api) (1.8.1)\n",
      "Requirement already satisfied: ipython>=7.23.1 in c:\\users\\sanpa solutions\\desktop\\pavitraa\\ubantu\\lib\\site-packages (from ipykernel->jupyter->tensorflow-object-detection-api) (8.23.0)\n",
      "Requirement already satisfied: jupyter-client>=6.1.12 in c:\\users\\sanpa solutions\\desktop\\pavitraa\\ubantu\\lib\\site-packages (from ipykernel->jupyter->tensorflow-object-detection-api) (8.6.1)\n",
      "Requirement already satisfied: jupyter-core!=5.0.*,>=4.12 in c:\\users\\sanpa solutions\\desktop\\pavitraa\\ubantu\\lib\\site-packages (from ipykernel->jupyter->tensorflow-object-detection-api) (5.7.2)\n",
      "Requirement already satisfied: matplotlib-inline>=0.1 in c:\\users\\sanpa solutions\\desktop\\pavitraa\\ubantu\\lib\\site-packages (from ipykernel->jupyter->tensorflow-object-detection-api) (0.1.6)\n",
      "Requirement already satisfied: nest-asyncio in c:\\users\\sanpa solutions\\desktop\\pavitraa\\ubantu\\lib\\site-packages (from ipykernel->jupyter->tensorflow-object-detection-api) (1.6.0)\n",
      "Requirement already satisfied: psutil in c:\\users\\sanpa solutions\\desktop\\pavitraa\\ubantu\\lib\\site-packages (from ipykernel->jupyter->tensorflow-object-detection-api) (5.9.8)\n",
      "Requirement already satisfied: pyzmq>=24 in c:\\users\\sanpa solutions\\desktop\\pavitraa\\ubantu\\lib\\site-packages (from ipykernel->jupyter->tensorflow-object-detection-api) (25.1.2)\n",
      "Requirement already satisfied: tornado>=6.1 in c:\\users\\sanpa solutions\\desktop\\pavitraa\\ubantu\\lib\\site-packages (from ipykernel->jupyter->tensorflow-object-detection-api) (6.4)\n",
      "Requirement already satisfied: traitlets>=5.4.0 in c:\\users\\sanpa solutions\\desktop\\pavitraa\\ubantu\\lib\\site-packages (from ipykernel->jupyter->tensorflow-object-detection-api) (5.14.2)\n",
      "Requirement already satisfied: widgetsnbextension~=4.0.10 in c:\\users\\sanpa solutions\\desktop\\pavitraa\\ubantu\\lib\\site-packages (from ipywidgets->jupyter->tensorflow-object-detection-api) (4.0.10)\n",
      "Requirement already satisfied: jupyterlab-widgets~=3.0.10 in c:\\users\\sanpa solutions\\desktop\\pavitraa\\ubantu\\lib\\site-packages (from ipywidgets->jupyter->tensorflow-object-detection-api) (3.0.10)\n",
      "Requirement already satisfied: prompt-toolkit>=3.0.30 in c:\\users\\sanpa solutions\\desktop\\pavitraa\\ubantu\\lib\\site-packages (from jupyter-console->jupyter->tensorflow-object-detection-api) (3.0.43)\n",
      "Requirement already satisfied: beautifulsoup4 in c:\\users\\sanpa solutions\\desktop\\pavitraa\\ubantu\\lib\\site-packages (from nbconvert->jupyter->tensorflow-object-detection-api) (4.12.3)\n",
      "Requirement already satisfied: bleach!=5.0.0 in c:\\users\\sanpa solutions\\desktop\\pavitraa\\ubantu\\lib\\site-packages (from nbconvert->jupyter->tensorflow-object-detection-api) (6.1.0)\n",
      "Requirement already satisfied: defusedxml in c:\\users\\sanpa solutions\\desktop\\pavitraa\\ubantu\\lib\\site-packages (from nbconvert->jupyter->tensorflow-object-detection-api) (0.7.1)\n",
      "Requirement already satisfied: jinja2>=3.0 in c:\\users\\sanpa solutions\\desktop\\pavitraa\\ubantu\\lib\\site-packages (from nbconvert->jupyter->tensorflow-object-detection-api) (3.1.3)\n",
      "Requirement already satisfied: jupyterlab-pygments in c:\\users\\sanpa solutions\\desktop\\pavitraa\\ubantu\\lib\\site-packages (from nbconvert->jupyter->tensorflow-object-detection-api) (0.3.0)\n",
      "Requirement already satisfied: markupsafe>=2.0 in c:\\users\\sanpa solutions\\desktop\\pavitraa\\ubantu\\lib\\site-packages (from nbconvert->jupyter->tensorflow-object-detection-api) (2.1.5)\n",
      "Requirement already satisfied: mistune<4,>=2.0.3 in c:\\users\\sanpa solutions\\desktop\\pavitraa\\ubantu\\lib\\site-packages (from nbconvert->jupyter->tensorflow-object-detection-api) (3.0.2)\n",
      "Requirement already satisfied: nbclient>=0.5.0 in c:\\users\\sanpa solutions\\desktop\\pavitraa\\ubantu\\lib\\site-packages (from nbconvert->jupyter->tensorflow-object-detection-api) (0.10.0)\n",
      "Requirement already satisfied: nbformat>=5.7 in c:\\users\\sanpa solutions\\desktop\\pavitraa\\ubantu\\lib\\site-packages (from nbconvert->jupyter->tensorflow-object-detection-api) (5.10.3)\n",
      "Requirement already satisfied: pandocfilters>=1.4.1 in c:\\users\\sanpa solutions\\desktop\\pavitraa\\ubantu\\lib\\site-packages (from nbconvert->jupyter->tensorflow-object-detection-api) (1.5.1)\n",
      "Requirement already satisfied: tinycss2 in c:\\users\\sanpa solutions\\desktop\\pavitraa\\ubantu\\lib\\site-packages (from nbconvert->jupyter->tensorflow-object-detection-api) (1.2.1)\n",
      "Requirement already satisfied: jupyter-server<3,>=2.4.0 in c:\\users\\sanpa solutions\\desktop\\pavitraa\\ubantu\\lib\\site-packages (from notebook->jupyter->tensorflow-object-detection-api) (2.13.0)\n",
      "Requirement already satisfied: jupyterlab-server<3,>=2.22.1 in c:\\users\\sanpa solutions\\desktop\\pavitraa\\ubantu\\lib\\site-packages (from notebook->jupyter->tensorflow-object-detection-api) (2.25.4)\n",
      "Requirement already satisfied: jupyterlab<4.2,>=4.1.1 in c:\\users\\sanpa solutions\\desktop\\pavitraa\\ubantu\\lib\\site-packages (from notebook->jupyter->tensorflow-object-detection-api) (4.1.5)\n",
      "Requirement already satisfied: notebook-shim<0.3,>=0.2 in c:\\users\\sanpa solutions\\desktop\\pavitraa\\ubantu\\lib\\site-packages (from notebook->jupyter->tensorflow-object-detection-api) (0.2.4)\n",
      "Requirement already satisfied: qtpy>=2.4.0 in c:\\users\\sanpa solutions\\desktop\\pavitraa\\ubantu\\lib\\site-packages (from qtconsole->jupyter->tensorflow-object-detection-api) (2.4.1)\n",
      "Requirement already satisfied: webencodings in c:\\users\\sanpa solutions\\desktop\\pavitraa\\ubantu\\lib\\site-packages (from bleach!=5.0.0->nbconvert->jupyter->tensorflow-object-detection-api) (0.5.1)\n",
      "Requirement already satisfied: decorator in c:\\users\\sanpa solutions\\desktop\\pavitraa\\ubantu\\lib\\site-packages (from ipython>=7.23.1->ipykernel->jupyter->tensorflow-object-detection-api) (5.1.1)\n",
      "Requirement already satisfied: jedi>=0.16 in c:\\users\\sanpa solutions\\desktop\\pavitraa\\ubantu\\lib\\site-packages (from ipython>=7.23.1->ipykernel->jupyter->tensorflow-object-detection-api) (0.19.1)\n",
      "Requirement already satisfied: stack-data in c:\\users\\sanpa solutions\\desktop\\pavitraa\\ubantu\\lib\\site-packages (from ipython>=7.23.1->ipykernel->jupyter->tensorflow-object-detection-api) (0.6.3)\n",
      "Requirement already satisfied: colorama in c:\\users\\sanpa solutions\\desktop\\pavitraa\\ubantu\\lib\\site-packages (from ipython>=7.23.1->ipykernel->jupyter->tensorflow-object-detection-api) (0.4.6)\n",
      "Requirement already satisfied: platformdirs>=2.5 in c:\\users\\sanpa solutions\\desktop\\pavitraa\\ubantu\\lib\\site-packages (from jupyter-core!=5.0.*,>=4.12->ipykernel->jupyter->tensorflow-object-detection-api) (4.2.0)\n",
      "Requirement already satisfied: pywin32>=300 in c:\\users\\sanpa solutions\\desktop\\pavitraa\\ubantu\\lib\\site-packages (from jupyter-core!=5.0.*,>=4.12->ipykernel->jupyter->tensorflow-object-detection-api) (306)\n",
      "Requirement already satisfied: anyio>=3.1.0 in c:\\users\\sanpa solutions\\desktop\\pavitraa\\ubantu\\lib\\site-packages (from jupyter-server<3,>=2.4.0->notebook->jupyter->tensorflow-object-detection-api) (4.3.0)\n",
      "Requirement already satisfied: argon2-cffi in c:\\users\\sanpa solutions\\desktop\\pavitraa\\ubantu\\lib\\site-packages (from jupyter-server<3,>=2.4.0->notebook->jupyter->tensorflow-object-detection-api) (23.1.0)\n",
      "Requirement already satisfied: jupyter-events>=0.9.0 in c:\\users\\sanpa solutions\\desktop\\pavitraa\\ubantu\\lib\\site-packages (from jupyter-server<3,>=2.4.0->notebook->jupyter->tensorflow-object-detection-api) (0.10.0)\n",
      "Requirement already satisfied: jupyter-server-terminals in c:\\users\\sanpa solutions\\desktop\\pavitraa\\ubantu\\lib\\site-packages (from jupyter-server<3,>=2.4.0->notebook->jupyter->tensorflow-object-detection-api) (0.5.3)\n",
      "Requirement already satisfied: overrides in c:\\users\\sanpa solutions\\desktop\\pavitraa\\ubantu\\lib\\site-packages (from jupyter-server<3,>=2.4.0->notebook->jupyter->tensorflow-object-detection-api) (7.7.0)\n",
      "Requirement already satisfied: prometheus-client in c:\\users\\sanpa solutions\\desktop\\pavitraa\\ubantu\\lib\\site-packages (from jupyter-server<3,>=2.4.0->notebook->jupyter->tensorflow-object-detection-api) (0.20.0)\n",
      "Requirement already satisfied: pywinpty in c:\\users\\sanpa solutions\\desktop\\pavitraa\\ubantu\\lib\\site-packages (from jupyter-server<3,>=2.4.0->notebook->jupyter->tensorflow-object-detection-api) (2.0.13)\n",
      "Requirement already satisfied: send2trash>=1.8.2 in c:\\users\\sanpa solutions\\desktop\\pavitraa\\ubantu\\lib\\site-packages (from jupyter-server<3,>=2.4.0->notebook->jupyter->tensorflow-object-detection-api) (1.8.2)\n",
      "Requirement already satisfied: terminado>=0.8.3 in c:\\users\\sanpa solutions\\desktop\\pavitraa\\ubantu\\lib\\site-packages (from jupyter-server<3,>=2.4.0->notebook->jupyter->tensorflow-object-detection-api) (0.18.1)\n",
      "Requirement already satisfied: websocket-client in c:\\users\\sanpa solutions\\desktop\\pavitraa\\ubantu\\lib\\site-packages (from jupyter-server<3,>=2.4.0->notebook->jupyter->tensorflow-object-detection-api) (1.7.0)\n",
      "Requirement already satisfied: async-lru>=1.0.0 in c:\\users\\sanpa solutions\\desktop\\pavitraa\\ubantu\\lib\\site-packages (from jupyterlab<4.2,>=4.1.1->notebook->jupyter->tensorflow-object-detection-api) (2.0.4)\n",
      "Requirement already satisfied: httpx>=0.25.0 in c:\\users\\sanpa solutions\\desktop\\pavitraa\\ubantu\\lib\\site-packages (from jupyterlab<4.2,>=4.1.1->notebook->jupyter->tensorflow-object-detection-api) (0.27.0)\n",
      "Requirement already satisfied: jupyter-lsp>=2.0.0 in c:\\users\\sanpa solutions\\desktop\\pavitraa\\ubantu\\lib\\site-packages (from jupyterlab<4.2,>=4.1.1->notebook->jupyter->tensorflow-object-detection-api) (2.2.4)\n",
      "Requirement already satisfied: babel>=2.10 in c:\\users\\sanpa solutions\\desktop\\pavitraa\\ubantu\\lib\\site-packages (from jupyterlab-server<3,>=2.22.1->notebook->jupyter->tensorflow-object-detection-api) (2.14.0)\n",
      "Requirement already satisfied: json5>=0.9.0 in c:\\users\\sanpa solutions\\desktop\\pavitraa\\ubantu\\lib\\site-packages (from jupyterlab-server<3,>=2.22.1->notebook->jupyter->tensorflow-object-detection-api) (0.9.24)\n",
      "Requirement already satisfied: jsonschema>=4.18.0 in c:\\users\\sanpa solutions\\desktop\\pavitraa\\ubantu\\lib\\site-packages (from jupyterlab-server<3,>=2.22.1->notebook->jupyter->tensorflow-object-detection-api) (4.21.1)\n",
      "Requirement already satisfied: namex in c:\\users\\sanpa solutions\\desktop\\pavitraa\\ubantu\\lib\\site-packages (from keras>=3.0.0->tensorflow-intel==2.16.1->tensorflow->tensorflow-object-detection-api) (0.0.7)\n",
      "Requirement already satisfied: optree in c:\\users\\sanpa solutions\\desktop\\pavitraa\\ubantu\\lib\\site-packages (from keras>=3.0.0->tensorflow-intel==2.16.1->tensorflow->tensorflow-object-detection-api) (0.11.0)\n",
      "Requirement already satisfied: mdurl~=0.1 in c:\\users\\sanpa solutions\\desktop\\pavitraa\\ubantu\\lib\\site-packages (from markdown-it-py>=2.2.0->rich>=12.0.0->twine->tensorflow-object-detection-api) (0.1.2)\n",
      "Requirement already satisfied: fastjsonschema in c:\\users\\sanpa solutions\\desktop\\pavitraa\\ubantu\\lib\\site-packages (from nbformat>=5.7->nbconvert->jupyter->tensorflow-object-detection-api) (2.19.1)\n",
      "Requirement already satisfied: wcwidth in c:\\users\\sanpa solutions\\desktop\\pavitraa\\ubantu\\lib\\site-packages (from prompt-toolkit>=3.0.30->jupyter-console->jupyter->tensorflow-object-detection-api) (0.2.13)\n",
      "Requirement already satisfied: markdown>=2.6.8 in c:\\users\\sanpa solutions\\desktop\\pavitraa\\ubantu\\lib\\site-packages (from tensorboard<2.17,>=2.16->tensorflow-intel==2.16.1->tensorflow->tensorflow-object-detection-api) (3.6)\n",
      "Requirement already satisfied: tensorboard-data-server<0.8.0,>=0.7.0 in c:\\users\\sanpa solutions\\desktop\\pavitraa\\ubantu\\lib\\site-packages (from tensorboard<2.17,>=2.16->tensorflow-intel==2.16.1->tensorflow->tensorflow-object-detection-api) (0.7.2)\n",
      "Requirement already satisfied: werkzeug>=1.0.1 in c:\\users\\sanpa solutions\\desktop\\pavitraa\\ubantu\\lib\\site-packages (from tensorboard<2.17,>=2.16->tensorflow-intel==2.16.1->tensorflow->tensorflow-object-detection-api) (3.0.2)\n",
      "Requirement already satisfied: soupsieve>1.2 in c:\\users\\sanpa solutions\\desktop\\pavitraa\\ubantu\\lib\\site-packages (from beautifulsoup4->nbconvert->jupyter->tensorflow-object-detection-api) (2.5)\n",
      "Collecting more-itertools (from jaraco.classes->keyring>=15.1->twine->tensorflow-object-detection-api)\n",
      "  Obtaining dependency information for more-itertools from https://files.pythonhosted.org/packages/50/e2/8e10e465ee3987bb7c9ab69efb91d867d93959095f4807db102d07995d94/more_itertools-10.2.0-py3-none-any.whl.metadata\n",
      "  Downloading more_itertools-10.2.0-py3-none-any.whl.metadata (34 kB)\n",
      "Requirement already satisfied: sniffio>=1.1 in c:\\users\\sanpa solutions\\desktop\\pavitraa\\ubantu\\lib\\site-packages (from anyio>=3.1.0->jupyter-server<3,>=2.4.0->notebook->jupyter->tensorflow-object-detection-api) (1.3.1)\n",
      "Requirement already satisfied: httpcore==1.* in c:\\users\\sanpa solutions\\desktop\\pavitraa\\ubantu\\lib\\site-packages (from httpx>=0.25.0->jupyterlab<4.2,>=4.1.1->notebook->jupyter->tensorflow-object-detection-api) (1.0.5)\n",
      "Requirement already satisfied: h11<0.15,>=0.13 in c:\\users\\sanpa solutions\\desktop\\pavitraa\\ubantu\\lib\\site-packages (from httpcore==1.*->httpx>=0.25.0->jupyterlab<4.2,>=4.1.1->notebook->jupyter->tensorflow-object-detection-api) (0.14.0)\n",
      "Requirement already satisfied: parso<0.9.0,>=0.8.3 in c:\\users\\sanpa solutions\\desktop\\pavitraa\\ubantu\\lib\\site-packages (from jedi>=0.16->ipython>=7.23.1->ipykernel->jupyter->tensorflow-object-detection-api) (0.8.3)\n",
      "Requirement already satisfied: attrs>=22.2.0 in c:\\users\\sanpa solutions\\desktop\\pavitraa\\ubantu\\lib\\site-packages (from jsonschema>=4.18.0->jupyterlab-server<3,>=2.22.1->notebook->jupyter->tensorflow-object-detection-api) (23.2.0)\n",
      "Requirement already satisfied: jsonschema-specifications>=2023.03.6 in c:\\users\\sanpa solutions\\desktop\\pavitraa\\ubantu\\lib\\site-packages (from jsonschema>=4.18.0->jupyterlab-server<3,>=2.22.1->notebook->jupyter->tensorflow-object-detection-api) (2023.12.1)\n",
      "Requirement already satisfied: referencing>=0.28.4 in c:\\users\\sanpa solutions\\desktop\\pavitraa\\ubantu\\lib\\site-packages (from jsonschema>=4.18.0->jupyterlab-server<3,>=2.22.1->notebook->jupyter->tensorflow-object-detection-api) (0.34.0)\n",
      "Requirement already satisfied: rpds-py>=0.7.1 in c:\\users\\sanpa solutions\\desktop\\pavitraa\\ubantu\\lib\\site-packages (from jsonschema>=4.18.0->jupyterlab-server<3,>=2.22.1->notebook->jupyter->tensorflow-object-detection-api) (0.18.0)\n",
      "Requirement already satisfied: python-json-logger>=2.0.4 in c:\\users\\sanpa solutions\\desktop\\pavitraa\\ubantu\\lib\\site-packages (from jupyter-events>=0.9.0->jupyter-server<3,>=2.4.0->notebook->jupyter->tensorflow-object-detection-api) (2.0.7)\n",
      "Requirement already satisfied: pyyaml>=5.3 in c:\\users\\sanpa solutions\\desktop\\pavitraa\\ubantu\\lib\\site-packages (from jupyter-events>=0.9.0->jupyter-server<3,>=2.4.0->notebook->jupyter->tensorflow-object-detection-api) (6.0.1)\n",
      "Requirement already satisfied: rfc3339-validator in c:\\users\\sanpa solutions\\desktop\\pavitraa\\ubantu\\lib\\site-packages (from jupyter-events>=0.9.0->jupyter-server<3,>=2.4.0->notebook->jupyter->tensorflow-object-detection-api) (0.1.4)\n",
      "Requirement already satisfied: rfc3986-validator>=0.1.1 in c:\\users\\sanpa solutions\\desktop\\pavitraa\\ubantu\\lib\\site-packages (from jupyter-events>=0.9.0->jupyter-server<3,>=2.4.0->notebook->jupyter->tensorflow-object-detection-api) (0.1.1)\n",
      "Requirement already satisfied: argon2-cffi-bindings in c:\\users\\sanpa solutions\\desktop\\pavitraa\\ubantu\\lib\\site-packages (from argon2-cffi->jupyter-server<3,>=2.4.0->notebook->jupyter->tensorflow-object-detection-api) (21.2.0)\n",
      "Requirement already satisfied: executing>=1.2.0 in c:\\users\\sanpa solutions\\desktop\\pavitraa\\ubantu\\lib\\site-packages (from stack-data->ipython>=7.23.1->ipykernel->jupyter->tensorflow-object-detection-api) (2.0.1)\n",
      "Requirement already satisfied: asttokens>=2.1.0 in c:\\users\\sanpa solutions\\desktop\\pavitraa\\ubantu\\lib\\site-packages (from stack-data->ipython>=7.23.1->ipykernel->jupyter->tensorflow-object-detection-api) (2.4.1)\n",
      "Requirement already satisfied: pure-eval in c:\\users\\sanpa solutions\\desktop\\pavitraa\\ubantu\\lib\\site-packages (from stack-data->ipython>=7.23.1->ipykernel->jupyter->tensorflow-object-detection-api) (0.2.2)\n",
      "Requirement already satisfied: fqdn in c:\\users\\sanpa solutions\\desktop\\pavitraa\\ubantu\\lib\\site-packages (from jsonschema>=4.18.0->jupyterlab-server<3,>=2.22.1->notebook->jupyter->tensorflow-object-detection-api) (1.5.1)\n",
      "Requirement already satisfied: isoduration in c:\\users\\sanpa solutions\\desktop\\pavitraa\\ubantu\\lib\\site-packages (from jsonschema>=4.18.0->jupyterlab-server<3,>=2.22.1->notebook->jupyter->tensorflow-object-detection-api) (20.11.0)\n",
      "Requirement already satisfied: jsonpointer>1.13 in c:\\users\\sanpa solutions\\desktop\\pavitraa\\ubantu\\lib\\site-packages (from jsonschema>=4.18.0->jupyterlab-server<3,>=2.22.1->notebook->jupyter->tensorflow-object-detection-api) (2.4)\n",
      "Requirement already satisfied: uri-template in c:\\users\\sanpa solutions\\desktop\\pavitraa\\ubantu\\lib\\site-packages (from jsonschema>=4.18.0->jupyterlab-server<3,>=2.22.1->notebook->jupyter->tensorflow-object-detection-api) (1.3.0)\n",
      "Requirement already satisfied: webcolors>=1.11 in c:\\users\\sanpa solutions\\desktop\\pavitraa\\ubantu\\lib\\site-packages (from jsonschema>=4.18.0->jupyterlab-server<3,>=2.22.1->notebook->jupyter->tensorflow-object-detection-api) (1.13)\n",
      "Requirement already satisfied: cffi>=1.0.1 in c:\\users\\sanpa solutions\\desktop\\pavitraa\\ubantu\\lib\\site-packages (from argon2-cffi-bindings->argon2-cffi->jupyter-server<3,>=2.4.0->notebook->jupyter->tensorflow-object-detection-api) (1.16.0)\n",
      "Requirement already satisfied: pycparser in c:\\users\\sanpa solutions\\desktop\\pavitraa\\ubantu\\lib\\site-packages (from cffi>=1.0.1->argon2-cffi-bindings->argon2-cffi->jupyter-server<3,>=2.4.0->notebook->jupyter->tensorflow-object-detection-api) (2.22)\n",
      "Requirement already satisfied: arrow>=0.15.0 in c:\\users\\sanpa solutions\\desktop\\pavitraa\\ubantu\\lib\\site-packages (from isoduration->jsonschema>=4.18.0->jupyterlab-server<3,>=2.22.1->notebook->jupyter->tensorflow-object-detection-api) (1.3.0)\n",
      "Requirement already satisfied: types-python-dateutil>=2.8.10 in c:\\users\\sanpa solutions\\desktop\\pavitraa\\ubantu\\lib\\site-packages (from arrow>=0.15.0->isoduration->jsonschema>=4.18.0->jupyterlab-server<3,>=2.22.1->notebook->jupyter->tensorflow-object-detection-api) (2.9.0.20240316)\n",
      "Downloading twine-5.0.0-py3-none-any.whl (37 kB)\n",
      "Downloading importlib_metadata-7.1.0-py3-none-any.whl (24 kB)\n",
      "Downloading keyring-25.1.0-py3-none-any.whl (37 kB)\n",
      "Downloading pkginfo-1.10.0-py3-none-any.whl (30 kB)\n",
      "Downloading readme_renderer-43.0-py3-none-any.whl (13 kB)\n",
      "Downloading requests_toolbelt-1.0.0-py2.py3-none-any.whl (54 kB)\n",
      "   ---------------------------------------- 0.0/54.5 kB ? eta -:--:--\n",
      "   ---------------------------------------- 54.5/54.5 kB 2.9 MB/s eta 0:00:00\n",
      "Downloading rfc3986-2.0.0-py2.py3-none-any.whl (31 kB)\n",
      "Downloading docutils-0.20.1-py3-none-any.whl (572 kB)\n",
      "   ---------------------------------------- 0.0/572.7 kB ? eta -:--:--\n",
      "   ------------- -------------------------- 194.6/572.7 kB 3.9 MB/s eta 0:00:01\n",
      "   -------------------------- ------------- 378.9/572.7 kB 4.0 MB/s eta 0:00:01\n",
      "   ---------------------------------------- 572.7/572.7 kB 4.0 MB/s eta 0:00:00\n",
      "Downloading nh3-0.2.17-cp37-abi3-win_amd64.whl (571 kB)\n",
      "   ---------------------------------------- 0.0/571.5 kB ? eta -:--:--\n",
      "   --------------- ------------------------ 225.3/571.5 kB 6.9 MB/s eta 0:00:01\n",
      "   ------------------------- -------------- 358.4/571.5 kB 5.6 MB/s eta 0:00:01\n",
      "   ---------------------------------------  563.2/571.5 kB 5.1 MB/s eta 0:00:01\n",
      "   ---------------------------------------- 571.5/571.5 kB 4.5 MB/s eta 0:00:00\n",
      "Downloading pywin32_ctypes-0.2.2-py3-none-any.whl (30 kB)\n",
      "Downloading zipp-3.18.1-py3-none-any.whl (8.2 kB)\n",
      "Downloading jaraco.classes-3.4.0-py3-none-any.whl (6.8 kB)\n",
      "Downloading jaraco.context-5.3.0-py3-none-any.whl (6.5 kB)\n",
      "Downloading jaraco.functools-4.0.0-py3-none-any.whl (9.8 kB)\n",
      "Downloading more_itertools-10.2.0-py3-none-any.whl (57 kB)\n",
      "   ---------------------------------------- 0.0/57.0 kB ? eta -:--:--\n",
      "   ---------------------------------------- 57.0/57.0 kB 2.9 MB/s eta 0:00:00\n",
      "Building wheels for collected packages: tensorflow-object-detection-api\n",
      "  Building wheel for tensorflow-object-detection-api (setup.py): started\n",
      "  Building wheel for tensorflow-object-detection-api (setup.py): finished with status 'done'\n",
      "  Created wheel for tensorflow-object-detection-api: filename=tensorflow_object_detection_api-0.1.1-py3-none-any.whl size=844498 sha256=82013396b4962ff84e17c629cd8d59b716c314b6003920c9956beaefab1aa54a\n",
      "  Stored in directory: c:\\users\\sanpa solutions\\appdata\\local\\pip\\cache\\wheels\\90\\fa\\bf\\45bfde7803d29ee21058445a909514820e6391dbc6e0f7ea10\n",
      "Successfully built tensorflow-object-detection-api\n",
      "Installing collected packages: nh3, zipp, rfc3986, pywin32-ctypes, pkginfo, more-itertools, jaraco.context, docutils, requests-toolbelt, readme-renderer, jaraco.functools, jaraco.classes, importlib-metadata, keyring, twine, tensorflow-object-detection-api\n",
      "Successfully installed docutils-0.20.1 importlib-metadata-7.1.0 jaraco.classes-3.4.0 jaraco.context-5.3.0 jaraco.functools-4.0.0 keyring-25.1.0 more-itertools-10.2.0 nh3-0.2.17 pkginfo-1.10.0 pywin32-ctypes-0.2.2 readme-renderer-43.0 requests-toolbelt-1.0.0 rfc3986-2.0.0 tensorflow-object-detection-api-0.1.1 twine-5.0.0 zipp-3.18.1\n"
     ]
    },
    {
     "name": "stderr",
     "output_type": "stream",
     "text": [
      "\n",
      "[notice] A new release of pip is available: 23.2.1 -> 24.0\n",
      "[notice] To update, run: python.exe -m pip install --upgrade pip\n"
     ]
    }
   ],
   "source": [
    "!pip install tensorflow-object-detection-api\n"
   ]
  },
  {
   "cell_type": "code",
   "execution_count": 9,
   "metadata": {},
   "outputs": [],
   "source": [
    "import sys\n",
    "sys.path.append('/path/to/object_detection')"
   ]
  },
  {
   "cell_type": "code",
   "execution_count": 13,
   "metadata": {},
   "outputs": [
    {
     "name": "stdout",
     "output_type": "stream",
     "text": [
      "Requirement already satisfied: protobuf in c:\\users\\sanpa solutions\\desktop\\pavitraa\\ubantu\\lib\\site-packages (4.25.3)\n"
     ]
    },
    {
     "name": "stderr",
     "output_type": "stream",
     "text": [
      "\n",
      "[notice] A new release of pip is available: 23.2.1 -> 24.0\n",
      "[notice] To update, run: python.exe -m pip install --upgrade pip\n",
      "'protoc' is not recognized as an internal or external command,\n",
      "operable program or batch file.\n"
     ]
    }
   ],
   "source": [
    "!pip install protobuf\n",
    "\n",
    "!protoc /path/to/object_detection/protos/string_int_label_map.proto --python_out=/path/to/object_detection/protos\n"
   ]
  },
  {
   "cell_type": "code",
   "execution_count": 4,
   "metadata": {},
   "outputs": [
    {
     "data": {
      "text/plain": [
       "1"
      ]
     },
     "execution_count": 4,
     "metadata": {},
     "output_type": "execute_result"
    }
   ],
   "source": [
    "import os\n",
    "\n",
    "# Define paths\n",
    "SCRIPTS_PATH = \"C:/RealTimeObjectDetection/Tensorflow/scripts/\"\n",
    "IMAGE_PATH = \"C:/RealTimeObjectDetection/Tensorflow/workspace/images/\"\n",
    "ANNOTATION_PATH = \"C:/RealTimeObjectDetection/Tensorflow/workspace/annotations/\"\n",
    "\n",
    "# Define the full paths to the Python scripts\n",
    "train_script_path = SCRIPTS_PATH + \"generate_tfrecord.py\"\n",
    "test_script_path = SCRIPTS_PATH + \"generate_tfrecord.py\"\n",
    "\n",
    "# Construct the command for generating train record\n",
    "train_command = f\"python {train_script_path} -x {IMAGE_PATH}train -l {ANNOTATION_PATH}label_map.pbtxt -o {ANNOTATION_PATH}train.record\"\n",
    "\n",
    "# Construct the command for generating test record\n",
    "test_command = f\"python {test_script_path} -x {IMAGE_PATH}test -l {ANNOTATION_PATH}label_map.pbtxt -o {ANNOTATION_PATH}test.record\"\n",
    "\n",
    "# Execute the commands\n",
    "os.system(train_command)\n",
    "os.system(test_command)\n"
   ]
  },
  {
   "cell_type": "markdown",
   "metadata": {},
   "source": [
    "# 3. Download TF Models Pretrained Models from Tensorflow Model Zoo"
   ]
  },
  {
   "cell_type": "code",
   "execution_count": 6,
   "metadata": {},
   "outputs": [
    {
     "name": "stderr",
     "output_type": "stream",
     "text": [
      "fatal: destination path 'models' already exists and is not an empty directory.\n"
     ]
    }
   ],
   "source": [
    "!cd Tensorflow && git clone https://github.com/tensorflow/models"
   ]
  },
  {
   "cell_type": "code",
   "execution_count": 7,
   "metadata": {},
   "outputs": [],
   "source": [
    "#wget.download('http://download.tensorflow.org/models/object_detection/tf2/20200711/ssd_mobilenet_v2_fpnlite_320x320_coco17_tpu-8.tar.gz')\n",
    "#!mv ssd_mobilenet_v2_fpnlite_320x320_coco17_tpu-8.tar.gz {PRETRAINED_MODEL_PATH}\n",
    "#!cd {PRETRAINED_MODEL_PATH} && tar -zxvf ssd_mobilenet_v2_fpnlite_320x320_coco17_tpu-8.tar.gz"
   ]
  },
  {
   "cell_type": "markdown",
   "metadata": {},
   "source": [
    "# 4. Copy Model Config to Training Folder"
   ]
  },
  {
   "cell_type": "code",
   "execution_count": 8,
   "metadata": {},
   "outputs": [],
   "source": [
    "CUSTOM_MODEL_NAME = 'my_ssd_mobnet' "
   ]
  },
  {
   "cell_type": "code",
   "execution_count": 9,
   "metadata": {},
   "outputs": [
    {
     "name": "stderr",
     "output_type": "stream",
     "text": [
      "<string>:1: SyntaxWarning: invalid escape sequence '\\w'\n",
      "'cp' is not recognized as an internal or external command,\n",
      "operable program or batch file.\n"
     ]
    }
   ],
   "source": [
    "!mkdir {'Tensorflow\\workspace\\models\\\\'+CUSTOM_MODEL_NAME}\n",
    "!cp {PRETRAINED_MODEL_PATH+'/ssd_mobilenet_v2_fpnlite_320x320_coco17_tpu-8/pipeline.config'} {MODEL_PATH+'/'+CUSTOM_MODEL_NAME}"
   ]
  },
  {
   "cell_type": "markdown",
   "metadata": {},
   "source": [
    "# 5. Update Config For Transfer Learning"
   ]
  },
  {
   "cell_type": "code",
   "execution_count": 1,
   "metadata": {},
   "outputs": [],
   "source": [
    "import tensorflow as tf\n",
    "from object_detection.utils import config_util\n",
    "from object_detection.protos import pipeline_pb2\n",
    "from google.protobuf import text_format"
   ]
  },
  {
   "cell_type": "code",
   "execution_count": 8,
   "metadata": {},
   "outputs": [],
   "source": [
    "CONFIG_PATH = MODEL_PATH+'/'+CUSTOM_MODEL_NAME+'/pipeline.config'"
   ]
  },
  {
   "cell_type": "code",
   "execution_count": 55,
   "metadata": {},
   "outputs": [],
   "source": [
    "config = config_util.get_configs_from_pipeline_file(CONFIG_PATH)"
   ]
  },
  {
   "cell_type": "code",
   "execution_count": 56,
   "metadata": {
    "collapsed": true,
    "jupyter": {
     "outputs_hidden": true
    }
   },
   "outputs": [
    {
     "data": {
      "text/plain": [
       "{'model': ssd {\n",
       "   num_classes: 2\n",
       "   image_resizer {\n",
       "     fixed_shape_resizer {\n",
       "       height: 320\n",
       "       width: 320\n",
       "     }\n",
       "   }\n",
       "   feature_extractor {\n",
       "     type: \"ssd_mobilenet_v2_fpn_keras\"\n",
       "     depth_multiplier: 1.0\n",
       "     min_depth: 16\n",
       "     conv_hyperparams {\n",
       "       regularizer {\n",
       "         l2_regularizer {\n",
       "           weight: 4e-05\n",
       "         }\n",
       "       }\n",
       "       initializer {\n",
       "         random_normal_initializer {\n",
       "           mean: 0.0\n",
       "           stddev: 0.01\n",
       "         }\n",
       "       }\n",
       "       activation: RELU_6\n",
       "       batch_norm {\n",
       "         decay: 0.997\n",
       "         scale: true\n",
       "         epsilon: 0.001\n",
       "       }\n",
       "     }\n",
       "     use_depthwise: true\n",
       "     override_base_feature_extractor_hyperparams: true\n",
       "     fpn {\n",
       "       min_level: 3\n",
       "       max_level: 7\n",
       "       additional_layer_depth: 128\n",
       "     }\n",
       "   }\n",
       "   box_coder {\n",
       "     faster_rcnn_box_coder {\n",
       "       y_scale: 10.0\n",
       "       x_scale: 10.0\n",
       "       height_scale: 5.0\n",
       "       width_scale: 5.0\n",
       "     }\n",
       "   }\n",
       "   matcher {\n",
       "     argmax_matcher {\n",
       "       matched_threshold: 0.5\n",
       "       unmatched_threshold: 0.5\n",
       "       ignore_thresholds: false\n",
       "       negatives_lower_than_unmatched: true\n",
       "       force_match_for_each_row: true\n",
       "       use_matmul_gather: true\n",
       "     }\n",
       "   }\n",
       "   similarity_calculator {\n",
       "     iou_similarity {\n",
       "     }\n",
       "   }\n",
       "   box_predictor {\n",
       "     weight_shared_convolutional_box_predictor {\n",
       "       conv_hyperparams {\n",
       "         regularizer {\n",
       "           l2_regularizer {\n",
       "             weight: 4e-05\n",
       "           }\n",
       "         }\n",
       "         initializer {\n",
       "           random_normal_initializer {\n",
       "             mean: 0.0\n",
       "             stddev: 0.01\n",
       "           }\n",
       "         }\n",
       "         activation: RELU_6\n",
       "         batch_norm {\n",
       "           decay: 0.997\n",
       "           scale: true\n",
       "           epsilon: 0.001\n",
       "         }\n",
       "       }\n",
       "       depth: 128\n",
       "       num_layers_before_predictor: 4\n",
       "       kernel_size: 3\n",
       "       class_prediction_bias_init: -4.6\n",
       "       share_prediction_tower: true\n",
       "       use_depthwise: true\n",
       "     }\n",
       "   }\n",
       "   anchor_generator {\n",
       "     multiscale_anchor_generator {\n",
       "       min_level: 3\n",
       "       max_level: 7\n",
       "       anchor_scale: 4.0\n",
       "       aspect_ratios: 1.0\n",
       "       aspect_ratios: 2.0\n",
       "       aspect_ratios: 0.5\n",
       "       scales_per_octave: 2\n",
       "     }\n",
       "   }\n",
       "   post_processing {\n",
       "     batch_non_max_suppression {\n",
       "       score_threshold: 1e-08\n",
       "       iou_threshold: 0.6\n",
       "       max_detections_per_class: 100\n",
       "       max_total_detections: 100\n",
       "       use_static_shapes: false\n",
       "     }\n",
       "     score_converter: SIGMOID\n",
       "   }\n",
       "   normalize_loss_by_num_matches: true\n",
       "   loss {\n",
       "     localization_loss {\n",
       "       weighted_smooth_l1 {\n",
       "       }\n",
       "     }\n",
       "     classification_loss {\n",
       "       weighted_sigmoid_focal {\n",
       "         gamma: 2.0\n",
       "         alpha: 0.25\n",
       "       }\n",
       "     }\n",
       "     classification_weight: 1.0\n",
       "     localization_weight: 1.0\n",
       "   }\n",
       "   encode_background_as_zeros: true\n",
       "   normalize_loc_loss_by_codesize: true\n",
       "   inplace_batchnorm_update: true\n",
       "   freeze_batchnorm: false\n",
       " }, 'train_config': batch_size: 4\n",
       " data_augmentation_options {\n",
       "   random_horizontal_flip {\n",
       "   }\n",
       " }\n",
       " data_augmentation_options {\n",
       "   random_crop_image {\n",
       "     min_object_covered: 0.0\n",
       "     min_aspect_ratio: 0.75\n",
       "     max_aspect_ratio: 3.0\n",
       "     min_area: 0.75\n",
       "     max_area: 1.0\n",
       "     overlap_thresh: 0.0\n",
       "   }\n",
       " }\n",
       " sync_replicas: true\n",
       " optimizer {\n",
       "   momentum_optimizer {\n",
       "     learning_rate {\n",
       "       cosine_decay_learning_rate {\n",
       "         learning_rate_base: 0.08\n",
       "         total_steps: 50000\n",
       "         warmup_learning_rate: 0.026666\n",
       "         warmup_steps: 1000\n",
       "       }\n",
       "     }\n",
       "     momentum_optimizer_value: 0.9\n",
       "   }\n",
       "   use_moving_average: false\n",
       " }\n",
       " fine_tune_checkpoint: \"Tensorflow/workspace/pre-trained-models/ssd_mobilenet_v2_fpnlite_320x320_coco17_tpu-8/checkpoint/ckpt-0\"\n",
       " num_steps: 50000\n",
       " startup_delay_steps: 0.0\n",
       " replicas_to_aggregate: 8\n",
       " max_number_of_boxes: 100\n",
       " unpad_groundtruth_tensors: false\n",
       " fine_tune_checkpoint_type: \"detection\"\n",
       " fine_tune_checkpoint_version: V2, 'train_input_config': label_map_path: \"Tensorflow/workspace/annotations/label_map.pbtxt\"\n",
       " tf_record_input_reader {\n",
       "   input_path: \"Tensorflow/workspace/annotations/train.record\"\n",
       " }, 'eval_config': metrics_set: \"coco_detection_metrics\"\n",
       " use_moving_averages: false, 'eval_input_configs': [label_map_path: \"Tensorflow/workspace/annotations/label_map.pbtxt\"\n",
       " shuffle: false\n",
       " num_epochs: 1\n",
       " tf_record_input_reader {\n",
       "   input_path: \"Tensorflow/workspace/annotations/test.record\"\n",
       " }\n",
       " ], 'eval_input_config': label_map_path: \"Tensorflow/workspace/annotations/label_map.pbtxt\"\n",
       " shuffle: false\n",
       " num_epochs: 1\n",
       " tf_record_input_reader {\n",
       "   input_path: \"Tensorflow/workspace/annotations/test.record\"\n",
       " }}"
      ]
     },
     "execution_count": 56,
     "metadata": {},
     "output_type": "execute_result"
    }
   ],
   "source": [
    "config"
   ]
  },
  {
   "cell_type": "code",
   "execution_count": 52,
   "metadata": {},
   "outputs": [],
   "source": [
    "pipeline_config = pipeline_pb2.TrainEvalPipelineConfig()\n",
    "with tf.io.gfile.GFile(CONFIG_PATH, \"r\") as f:                                                                                                                                                                                                                     \n",
    "    proto_str = f.read()                                                                                                                                                                                                                                          \n",
    "    text_format.Merge(proto_str, pipeline_config)  "
   ]
  },
  {
   "cell_type": "code",
   "execution_count": 53,
   "metadata": {},
   "outputs": [],
   "source": [
    "pipeline_config.model.ssd.num_classes = 2\n",
    "pipeline_config.train_config.batch_size = 4\n",
    "pipeline_config.train_config.fine_tune_checkpoint = PRETRAINED_MODEL_PATH+'/ssd_mobilenet_v2_fpnlite_320x320_coco17_tpu-8/checkpoint/ckpt-0'\n",
    "pipeline_config.train_config.fine_tune_checkpoint_type = \"detection\"\n",
    "pipeline_config.train_input_reader.label_map_path= ANNOTATION_PATH + '/label_map.pbtxt'\n",
    "pipeline_config.train_input_reader.tf_record_input_reader.input_path[:] = [ANNOTATION_PATH + '/train.record']\n",
    "pipeline_config.eval_input_reader[0].label_map_path = ANNOTATION_PATH + '/label_map.pbtxt'\n",
    "pipeline_config.eval_input_reader[0].tf_record_input_reader.input_path[:] = [ANNOTATION_PATH + '/test.record']"
   ]
  },
  {
   "cell_type": "code",
   "execution_count": 54,
   "metadata": {},
   "outputs": [],
   "source": [
    "config_text = text_format.MessageToString(pipeline_config)                                                                                                                                                                                                        \n",
    "with tf.io.gfile.GFile(CONFIG_PATH, \"wb\") as f:                                                                                                                                                                                                                     \n",
    "    f.write(config_text)   "
   ]
  },
  {
   "cell_type": "markdown",
   "metadata": {},
   "source": [
    "# 6. Train the model"
   ]
  },
  {
   "cell_type": "code",
   "execution_count": 58,
   "metadata": {},
   "outputs": [
    {
     "name": "stdout",
     "output_type": "stream",
     "text": [
      "python Tensorflow/models/research/object_detection/model_main_tf2.py --model_dir=Tensorflow/workspace/models/my_ssd_mobnet --pipeline_config_path=Tensorflow/workspace/models/my_ssd_mobnet/pipeline.config --num_train_steps=5000\n"
     ]
    }
   ],
   "source": [
    "print(\"\"\"python {}/research/object_detection/model_main_tf2.py --model_dir={}/{} --pipeline_config_path={}/{}/pipeline.config --num_train_steps=5000\"\"\".format(APIMODEL_PATH, MODEL_PATH,CUSTOM_MODEL_NAME,MODEL_PATH,CUSTOM_MODEL_NAME))"
   ]
  },
  {
   "cell_type": "markdown",
   "metadata": {},
   "source": [
    "# 7. Load Train Model From Checkpoint"
   ]
  },
  {
   "cell_type": "code",
   "execution_count": 2,
   "metadata": {},
   "outputs": [],
   "source": [
    "import os\n",
    "from object_detection.utils import label_map_util\n",
    "from object_detection.utils import visualization_utils as viz_utils\n",
    "from object_detection.builders import model_builder"
   ]
  },
  {
   "cell_type": "code",
   "execution_count": 9,
   "metadata": {},
   "outputs": [],
   "source": [
    "# Load pipeline config and build a detection model\n",
    "configs = config_util.get_configs_from_pipeline_file(CONFIG_PATH)\n",
    "detection_model = model_builder.build(model_config=configs['model'], is_training=False)\n",
    "\n",
    "# Restore checkpoint\n",
    "ckpt = tf.compat.v2.train.Checkpoint(model=detection_model)\n",
    "ckpt.restore(os.path.join(CHECKPOINT_PATH, 'ckpt-6')).expect_partial()\n",
    "\n",
    "@tf.function\n",
    "def detect_fn(image):\n",
    "    image, shapes = detection_model.preprocess(image)\n",
    "    prediction_dict = detection_model.predict(image, shapes)\n",
    "    detections = detection_model.postprocess(prediction_dict, shapes)\n",
    "    return detections"
   ]
  },
  {
   "cell_type": "markdown",
   "metadata": {},
   "source": [
    "# 8. Detect in Real-Time"
   ]
  },
  {
   "cell_type": "code",
   "execution_count": 10,
   "metadata": {},
   "outputs": [],
   "source": [
    "import cv2 \n",
    "import numpy as np"
   ]
  },
  {
   "cell_type": "code",
   "execution_count": 11,
   "metadata": {},
   "outputs": [],
   "source": [
    "category_index = label_map_util.create_category_index_from_labelmap(ANNOTATION_PATH+'/label_map.pbtxt')"
   ]
  },
  {
   "cell_type": "code",
   "execution_count": 105,
   "metadata": {},
   "outputs": [],
   "source": [
    "cap.release()"
   ]
  },
  {
   "cell_type": "code",
   "execution_count": 12,
   "metadata": {},
   "outputs": [],
   "source": [
    "# Setup capture\n",
    "cap = cv2.VideoCapture(0)\n",
    "width = int(cap.get(cv2.CAP_PROP_FRAME_WIDTH))\n",
    "height = int(cap.get(cv2.CAP_PROP_FRAME_HEIGHT))"
   ]
  },
  {
   "cell_type": "code",
   "execution_count": null,
   "metadata": {},
   "outputs": [],
   "source": [
    "while True: \n",
    "    ret, frame = cap.read()\n",
    "    image_np = np.array(frame)\n",
    "    \n",
    "    input_tensor = tf.convert_to_tensor(np.expand_dims(image_np, 0), dtype=tf.float32)\n",
    "    detections = detect_fn(input_tensor)\n",
    "    \n",
    "    num_detections = int(detections.pop('num_detections'))\n",
    "    detections = {key: value[0, :num_detections].numpy()\n",
    "                  for key, value in detections.items()}\n",
    "    detections['num_detections'] = num_detections\n",
    "\n",
    "    # detection_classes should be ints.\n",
    "    detections['detection_classes'] = detections['detection_classes'].astype(np.int64)\n",
    "\n",
    "    label_id_offset = 1\n",
    "    image_np_with_detections = image_np.copy()\n",
    "\n",
    "    viz_utils.visualize_boxes_and_labels_on_image_array(\n",
    "                image_np_with_detections,\n",
    "                detections['detection_boxes'],\n",
    "                detections['detection_classes']+label_id_offset,\n",
    "                detections['detection_scores'],\n",
    "                category_index,\n",
    "                use_normalized_coordinates=True,\n",
    "                max_boxes_to_draw=5,\n",
    "                min_score_thresh=.5,\n",
    "                agnostic_mode=False)\n",
    "\n",
    "    cv2.imshow('object detection',  cv2.resize(image_np_with_detections, (800, 600)))\n",
    "    \n",
    "    if cv2.waitKey(1) & 0xFF == ord('q'):\n",
    "        cap.release()\n",
    "        break"
   ]
  },
  {
   "cell_type": "code",
   "execution_count": 42,
   "metadata": {},
   "outputs": [],
   "source": [
    "detections = detect_fn(input_tensor)"
   ]
  },
  {
   "cell_type": "code",
   "execution_count": 67,
   "metadata": {},
   "outputs": [],
   "source": [
    "from matplotlib import pyplot as plt"
   ]
  },
  {
   "cell_type": "code",
   "execution_count": null,
   "metadata": {},
   "outputs": [],
   "source": []
  }
 ],
 "metadata": {
  "kernelspec": {
   "display_name": "Python 3 (ipykernel)",
   "language": "python",
   "name": "python3"
  },
  "language_info": {
   "codemirror_mode": {
    "name": "ipython",
    "version": 3
   },
   "file_extension": ".py",
   "mimetype": "text/x-python",
   "name": "python",
   "nbconvert_exporter": "python",
   "pygments_lexer": "ipython3",
   "version": "3.12.0"
  }
 },
 "nbformat": 4,
 "nbformat_minor": 4
}
