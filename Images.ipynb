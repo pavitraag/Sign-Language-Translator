{
 "cells": [
  {
   "cell_type": "code",
   "execution_count": null,
   "id": "96ca8293-b2de-4a5b-b713-e60584e59923",
   "metadata": {},
   "outputs": [],
   "source": [
    "import cv2\n",
    "import os\n",
    "import time\n",
    "import uuid"
   ]
  },
  {
   "cell_type": "code",
   "execution_count": null,
   "id": "8fc6019c-1942-424a-92b5-10a4d6cdfd82",
   "metadata": {},
   "outputs": [],
   "source": [
    "!pip install opencv-python"
   ]
  },
  {
   "cell_type": "code",
   "execution_count": null,
   "id": "b2b45752-a8ca-4d99-b288-74ac1c4c86d0",
   "metadata": {},
   "outputs": [],
   "source": [
    "Images_path='Tensorflow/workspace/images/collectedimages'"
   ]
  },
  {
   "cell_type": "code",
   "execution_count": null,
   "id": "29695a50-4e58-4189-9a13-0b63b5647179",
   "metadata": {},
   "outputs": [],
   "source": [
    "labels=['hello','thanks','yes','no','iloveyou','please']\n",
    "number_imgs=15"
   ]
  },
  {
   "cell_type": "code",
   "execution_count": null,
   "id": "0d65b1c6-5b9e-4574-a6e9-a96f3de11717",
   "metadata": {},
   "outputs": [],
   "source": [
    "for label in labels:\n",
    "    !mkdir {r'Tensorflow\\workspace\\images\\collectedimages\\\\'+label}\n",
    "    cap=cv2.VideoCapture(0)\n",
    "    print('Collecting images for {}'.format(label))\n",
    "    time.sleep(5)\n",
    "    for imgnum in range(number_imgs):\n",
    "        ret,frame = cap.read()\n",
    "        imgname=os.path.join(Images_path,label,label+'.'+'{}.jpg'.format(str(uuid.uuid1())))\n",
    "        cv2.imwrite(imgname,frame)\n",
    "        cv2.imshow('frame',frame)\n",
    "        time.sleep(2)\n",
    "\n",
    "        if cv2.waitKey(1) & 0xFF == ord('q'):\n",
    "            break\n",
    "    cap.release()\n",
    "        "
   ]
  },
  {
   "cell_type": "code",
   "execution_count": 5,
   "id": "8be07b8e-58d3-457d-9901-343342d87515",
   "metadata": {},
   "outputs": [
    {
     "name": "stdout",
     "output_type": "stream",
     "text": [
      "Requirement already satisfied: pyqt5 in c:\\users\\sanpa solutions\\desktop\\pavitraa\\ubantu\\lib\\site-packages (5.15.10)\n",
      "Requirement already satisfied: lxml in c:\\users\\sanpa solutions\\desktop\\pavitraa\\ubantu\\lib\\site-packages (5.2.1)\n",
      "Requirement already satisfied: PyQt5-sip<13,>=12.13 in c:\\users\\sanpa solutions\\desktop\\pavitraa\\ubantu\\lib\\site-packages (from pyqt5) (12.13.0)\n",
      "Requirement already satisfied: PyQt5-Qt5>=5.15.2 in c:\\users\\sanpa solutions\\desktop\\pavitraa\\ubantu\\lib\\site-packages (from pyqt5) (5.15.2)\n"
     ]
    },
    {
     "name": "stderr",
     "output_type": "stream",
     "text": [
      "\n",
      "[notice] A new release of pip is available: 23.2.1 -> 24.0\n",
      "[notice] To update, run: python.exe -m pip install --upgrade pip\n"
     ]
    }
   ],
   "source": [
    "!pip install --upgrade pyqt5 lxml\n",
    "import os"
   ]
  },
  {
   "cell_type": "code",
   "execution_count": 6,
   "id": "85ee97e1-88df-4ede-9e84-2188e0a9d972",
   "metadata": {
    "scrolled": true
   },
   "outputs": [],
   "source": [
    "LABELIMG_PATH = os.path.join('Tensorflow', 'labelimg')"
   ]
  },
  {
   "cell_type": "code",
   "execution_count": 7,
   "id": "fb13163b-31c5-4a41-b712-f18cd749172b",
   "metadata": {},
   "outputs": [],
   "source": [
    "if not os.path.exists(LABELIMG_PATH):\n",
    "    !mkdir {LABELIMG_PATH}\n",
    "    !git clone https://github.com/HumanSignal/labelImg {LABELIMG_PATH}"
   ]
  },
  {
   "cell_type": "code",
   "execution_count": 9,
   "id": "b92da5df-73a1-4168-b29b-5a023d8fc5cd",
   "metadata": {},
   "outputs": [
    {
     "name": "stderr",
     "output_type": "stream",
     "text": [
      "C:\\Users\\Sanpa Solutions\\Desktop\\Pavitraa\\Ubantu\\Scripts\\pyrcc5: File does not exist 'resources.qrc'\n"
     ]
    }
   ],
   "source": [
    "if os.name == 'posix':\n",
    "    !cd {LABELIMG_PATH} && make qt5py3\n",
    "if os.name == 'nt':\n",
    "    !cd {LABELIMG_PATH} && pyrcc5 -o libs/resources.py resources.qrc\n"
   ]
  },
  {
   "cell_type": "code",
   "execution_count": null,
   "id": "bf786d81-c8ae-4e77-ba3c-e0c08ac6fd74",
   "metadata": {},
   "outputs": [],
   "source": [
    "!cd {LABELIMG_PATH} && python labelImg.py"
   ]
  },
  {
   "cell_type": "code",
   "execution_count": null,
   "id": "52714e87-56d8-4399-92e3-2dd220aeaff9",
   "metadata": {},
   "outputs": [],
   "source": []
  }
 ],
 "metadata": {
  "kernelspec": {
   "display_name": "Python 3 (ipykernel)",
   "language": "python",
   "name": "python3"
  },
  "language_info": {
   "codemirror_mode": {
    "name": "ipython",
    "version": 3
   },
   "file_extension": ".py",
   "mimetype": "text/x-python",
   "name": "python",
   "nbconvert_exporter": "python",
   "pygments_lexer": "ipython3",
   "version": "3.12.0"
  }
 },
 "nbformat": 4,
 "nbformat_minor": 5
}
